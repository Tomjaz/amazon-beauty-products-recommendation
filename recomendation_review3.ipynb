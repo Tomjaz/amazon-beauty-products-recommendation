{
  "cells": [
    {
      "cell_type": "markdown",
      "metadata": {
        "id": "view-in-github",
        "colab_type": "text"
      },
      "source": [
        "<a href=\"https://colab.research.google.com/github/Tomjaz/amazon-beauty-products-recommendation/blob/main/recomendation_review3.ipynb\" target=\"_parent\"><img src=\"https://colab.research.google.com/assets/colab-badge.svg\" alt=\"Open In Colab\"/></a>"
      ]
    },
    {
      "cell_type": "code",
      "execution_count": null,
      "metadata": {
        "id": "DpSulWMlj4sj"
      },
      "outputs": [],
      "source": [
        "import pandas as pd\n",
        "import pickle\n",
        "import matplotlib.pyplot as plt\n",
        "\n",
        "from surprise import Dataset, Reader, accuracy, NormalPredictor, KNNBasic, KNNWithMeans, KNNWithZScore, KNNBaseline, SVD, BaselineOnly, SVDpp, NMF, SlopeOne, CoClustering\n",
        "from surprise.accuracy import rmse\n",
        "from surprise.model_selection import cross_validate, train_test_split, GridSearchCV\n",
        "from surprise.prediction_algorithms import SVD, SVDpp, NMF, BaselineOnly, NormalPredictor\n",
        "from IPython.core.display import HTML\n",
        "\n",
        "%matplotlib inline"
      ]
    },
    {
      "cell_type": "code",
      "execution_count": null,
      "metadata": {
        "colab": {
          "base_uri": "https://localhost:8080/"
        },
        "id": "LwZUxVG0kHe4",
        "outputId": "e6773565-e409-48ca-ce8d-dc4c2b287672"
      },
      "outputs": [
        {
          "name": "stdout",
          "output_type": "stream",
          "text": [
            "Collecting scikit-surprise\n",
            "  Downloading scikit_surprise-1.1.4.tar.gz (154 kB)\n",
            "\u001b[?25l     \u001b[90m━━━━━━━━━━━━━━━━━━━━━━━━━━━━━━━━━━━━━━━━\u001b[0m \u001b[32m0.0/154.4 kB\u001b[0m \u001b[31m?\u001b[0m eta \u001b[36m-:--:--\u001b[0m\r\u001b[2K     \u001b[91m━━━━━━━━━━━━━━━━━━━━━━━━━━━━━━━━━━━━━\u001b[0m\u001b[90m╺\u001b[0m\u001b[90m━━\u001b[0m \u001b[32m143.4/154.4 kB\u001b[0m \u001b[31m4.0 MB/s\u001b[0m eta \u001b[36m0:00:01\u001b[0m\r\u001b[2K     \u001b[90m━━━━━━━━━━━━━━━━━━━━━━━━━━━━━━━━━━━━━━━━\u001b[0m \u001b[32m154.4/154.4 kB\u001b[0m \u001b[31m3.2 MB/s\u001b[0m eta \u001b[36m0:00:00\u001b[0m\n",
            "\u001b[?25h  Installing build dependencies ... \u001b[?25l\u001b[?25hdone\n",
            "  Getting requirements to build wheel ... \u001b[?25l\u001b[?25hdone\n",
            "  Preparing metadata (pyproject.toml) ... \u001b[?25l\u001b[?25hdone\n",
            "Requirement already satisfied: joblib>=1.2.0 in /usr/local/lib/python3.10/dist-packages (from scikit-surprise) (1.4.2)\n",
            "Requirement already satisfied: numpy>=1.19.5 in /usr/local/lib/python3.10/dist-packages (from scikit-surprise) (1.26.4)\n",
            "Requirement already satisfied: scipy>=1.6.0 in /usr/local/lib/python3.10/dist-packages (from scikit-surprise) (1.13.1)\n",
            "Building wheels for collected packages: scikit-surprise\n",
            "  Building wheel for scikit-surprise (pyproject.toml) ... \u001b[?25l\u001b[?25hdone\n",
            "  Created wheel for scikit-surprise: filename=scikit_surprise-1.1.4-cp310-cp310-linux_x86_64.whl size=2357270 sha256=e26623b2dfd005775f6d7ede892fcd2269cb98384e99d19d8f2f4a2fc0455ee0\n",
            "  Stored in directory: /root/.cache/pip/wheels/4b/3f/df/6acbf0a40397d9bf3ff97f582cc22fb9ce66adde75bc71fd54\n",
            "Successfully built scikit-surprise\n",
            "Installing collected packages: scikit-surprise\n",
            "Successfully installed scikit-surprise-1.1.4\n"
          ]
        }
      ],
      "source": [
        "!pip install scikit-surprise"
      ]
    },
    {
      "cell_type": "code",
      "execution_count": null,
      "metadata": {
        "id": "O4LzvYJ8kRAA"
      },
      "outputs": [],
      "source": [
        "df = pd.read_json(\"/content/reviews_Beauty_5.json.gz\",lines=True)"
      ]
    },
    {
      "cell_type": "code",
      "execution_count": null,
      "metadata": {
        "colab": {
          "base_uri": "https://localhost:8080/",
          "height": 206
        },
        "id": "FPuTfo2Ukpl_",
        "outputId": "8e23af33-293a-4d4e-fb59-a42ab8309bea"
      },
      "outputs": [
        {
          "data": {
            "application/vnd.google.colaboratory.intrinsic+json": {
              "type": "dataframe",
              "variable_name": "df"
            },
            "text/html": [
              "\n",
              "  <div id=\"df-6272231e-5443-4900-a0ab-1c72f11cee3c\" class=\"colab-df-container\">\n",
              "    <div>\n",
              "<style scoped>\n",
              "    .dataframe tbody tr th:only-of-type {\n",
              "        vertical-align: middle;\n",
              "    }\n",
              "\n",
              "    .dataframe tbody tr th {\n",
              "        vertical-align: top;\n",
              "    }\n",
              "\n",
              "    .dataframe thead th {\n",
              "        text-align: right;\n",
              "    }\n",
              "</style>\n",
              "<table border=\"1\" class=\"dataframe\">\n",
              "  <thead>\n",
              "    <tr style=\"text-align: right;\">\n",
              "      <th></th>\n",
              "      <th>reviewerID</th>\n",
              "      <th>asin</th>\n",
              "      <th>reviewerName</th>\n",
              "      <th>helpful</th>\n",
              "      <th>reviewText</th>\n",
              "      <th>overall</th>\n",
              "      <th>summary</th>\n",
              "      <th>unixReviewTime</th>\n",
              "      <th>reviewTime</th>\n",
              "    </tr>\n",
              "  </thead>\n",
              "  <tbody>\n",
              "    <tr>\n",
              "      <th>0</th>\n",
              "      <td>A1YJEY40YUW4SE</td>\n",
              "      <td>7806397051</td>\n",
              "      <td>Andrea</td>\n",
              "      <td>[3, 4]</td>\n",
              "      <td>Very oily and creamy. Not at all what I expect...</td>\n",
              "      <td>1</td>\n",
              "      <td>Don't waste your money</td>\n",
              "      <td>1391040000</td>\n",
              "      <td>01 30, 2014</td>\n",
              "    </tr>\n",
              "    <tr>\n",
              "      <th>1</th>\n",
              "      <td>A60XNB876KYML</td>\n",
              "      <td>7806397051</td>\n",
              "      <td>Jessica H.</td>\n",
              "      <td>[1, 1]</td>\n",
              "      <td>This palette was a decent price and I was look...</td>\n",
              "      <td>3</td>\n",
              "      <td>OK Palette!</td>\n",
              "      <td>1397779200</td>\n",
              "      <td>04 18, 2014</td>\n",
              "    </tr>\n",
              "    <tr>\n",
              "      <th>2</th>\n",
              "      <td>A3G6XNM240RMWA</td>\n",
              "      <td>7806397051</td>\n",
              "      <td>Karen</td>\n",
              "      <td>[0, 1]</td>\n",
              "      <td>The texture of this concealer pallet is fantas...</td>\n",
              "      <td>4</td>\n",
              "      <td>great quality</td>\n",
              "      <td>1378425600</td>\n",
              "      <td>09 6, 2013</td>\n",
              "    </tr>\n",
              "    <tr>\n",
              "      <th>3</th>\n",
              "      <td>A1PQFP6SAJ6D80</td>\n",
              "      <td>7806397051</td>\n",
              "      <td>Norah</td>\n",
              "      <td>[2, 2]</td>\n",
              "      <td>I really can't tell what exactly this thing is...</td>\n",
              "      <td>2</td>\n",
              "      <td>Do not work on my face</td>\n",
              "      <td>1386460800</td>\n",
              "      <td>12 8, 2013</td>\n",
              "    </tr>\n",
              "    <tr>\n",
              "      <th>4</th>\n",
              "      <td>A38FVHZTNQ271F</td>\n",
              "      <td>7806397051</td>\n",
              "      <td>Nova Amor</td>\n",
              "      <td>[0, 0]</td>\n",
              "      <td>It was a little smaller than I expected, but t...</td>\n",
              "      <td>3</td>\n",
              "      <td>It's okay.</td>\n",
              "      <td>1382140800</td>\n",
              "      <td>10 19, 2013</td>\n",
              "    </tr>\n",
              "  </tbody>\n",
              "</table>\n",
              "</div>\n",
              "    <div class=\"colab-df-buttons\">\n",
              "\n",
              "  <div class=\"colab-df-container\">\n",
              "    <button class=\"colab-df-convert\" onclick=\"convertToInteractive('df-6272231e-5443-4900-a0ab-1c72f11cee3c')\"\n",
              "            title=\"Convert this dataframe to an interactive table.\"\n",
              "            style=\"display:none;\">\n",
              "\n",
              "  <svg xmlns=\"http://www.w3.org/2000/svg\" height=\"24px\" viewBox=\"0 -960 960 960\">\n",
              "    <path d=\"M120-120v-720h720v720H120Zm60-500h600v-160H180v160Zm220 220h160v-160H400v160Zm0 220h160v-160H400v160ZM180-400h160v-160H180v160Zm440 0h160v-160H620v160ZM180-180h160v-160H180v160Zm440 0h160v-160H620v160Z\"/>\n",
              "  </svg>\n",
              "    </button>\n",
              "\n",
              "  <style>\n",
              "    .colab-df-container {\n",
              "      display:flex;\n",
              "      gap: 12px;\n",
              "    }\n",
              "\n",
              "    .colab-df-convert {\n",
              "      background-color: #E8F0FE;\n",
              "      border: none;\n",
              "      border-radius: 50%;\n",
              "      cursor: pointer;\n",
              "      display: none;\n",
              "      fill: #1967D2;\n",
              "      height: 32px;\n",
              "      padding: 0 0 0 0;\n",
              "      width: 32px;\n",
              "    }\n",
              "\n",
              "    .colab-df-convert:hover {\n",
              "      background-color: #E2EBFA;\n",
              "      box-shadow: 0px 1px 2px rgba(60, 64, 67, 0.3), 0px 1px 3px 1px rgba(60, 64, 67, 0.15);\n",
              "      fill: #174EA6;\n",
              "    }\n",
              "\n",
              "    .colab-df-buttons div {\n",
              "      margin-bottom: 4px;\n",
              "    }\n",
              "\n",
              "    [theme=dark] .colab-df-convert {\n",
              "      background-color: #3B4455;\n",
              "      fill: #D2E3FC;\n",
              "    }\n",
              "\n",
              "    [theme=dark] .colab-df-convert:hover {\n",
              "      background-color: #434B5C;\n",
              "      box-shadow: 0px 1px 3px 1px rgba(0, 0, 0, 0.15);\n",
              "      filter: drop-shadow(0px 1px 2px rgba(0, 0, 0, 0.3));\n",
              "      fill: #FFFFFF;\n",
              "    }\n",
              "  </style>\n",
              "\n",
              "    <script>\n",
              "      const buttonEl =\n",
              "        document.querySelector('#df-6272231e-5443-4900-a0ab-1c72f11cee3c button.colab-df-convert');\n",
              "      buttonEl.style.display =\n",
              "        google.colab.kernel.accessAllowed ? 'block' : 'none';\n",
              "\n",
              "      async function convertToInteractive(key) {\n",
              "        const element = document.querySelector('#df-6272231e-5443-4900-a0ab-1c72f11cee3c');\n",
              "        const dataTable =\n",
              "          await google.colab.kernel.invokeFunction('convertToInteractive',\n",
              "                                                    [key], {});\n",
              "        if (!dataTable) return;\n",
              "\n",
              "        const docLinkHtml = 'Like what you see? Visit the ' +\n",
              "          '<a target=\"_blank\" href=https://colab.research.google.com/notebooks/data_table.ipynb>data table notebook</a>'\n",
              "          + ' to learn more about interactive tables.';\n",
              "        element.innerHTML = '';\n",
              "        dataTable['output_type'] = 'display_data';\n",
              "        await google.colab.output.renderOutput(dataTable, element);\n",
              "        const docLink = document.createElement('div');\n",
              "        docLink.innerHTML = docLinkHtml;\n",
              "        element.appendChild(docLink);\n",
              "      }\n",
              "    </script>\n",
              "  </div>\n",
              "\n",
              "\n",
              "<div id=\"df-430c7ded-2caa-4b82-a9b9-06b3861cd00d\">\n",
              "  <button class=\"colab-df-quickchart\" onclick=\"quickchart('df-430c7ded-2caa-4b82-a9b9-06b3861cd00d')\"\n",
              "            title=\"Suggest charts\"\n",
              "            style=\"display:none;\">\n",
              "\n",
              "<svg xmlns=\"http://www.w3.org/2000/svg\" height=\"24px\"viewBox=\"0 0 24 24\"\n",
              "     width=\"24px\">\n",
              "    <g>\n",
              "        <path d=\"M19 3H5c-1.1 0-2 .9-2 2v14c0 1.1.9 2 2 2h14c1.1 0 2-.9 2-2V5c0-1.1-.9-2-2-2zM9 17H7v-7h2v7zm4 0h-2V7h2v10zm4 0h-2v-4h2v4z\"/>\n",
              "    </g>\n",
              "</svg>\n",
              "  </button>\n",
              "\n",
              "<style>\n",
              "  .colab-df-quickchart {\n",
              "      --bg-color: #E8F0FE;\n",
              "      --fill-color: #1967D2;\n",
              "      --hover-bg-color: #E2EBFA;\n",
              "      --hover-fill-color: #174EA6;\n",
              "      --disabled-fill-color: #AAA;\n",
              "      --disabled-bg-color: #DDD;\n",
              "  }\n",
              "\n",
              "  [theme=dark] .colab-df-quickchart {\n",
              "      --bg-color: #3B4455;\n",
              "      --fill-color: #D2E3FC;\n",
              "      --hover-bg-color: #434B5C;\n",
              "      --hover-fill-color: #FFFFFF;\n",
              "      --disabled-bg-color: #3B4455;\n",
              "      --disabled-fill-color: #666;\n",
              "  }\n",
              "\n",
              "  .colab-df-quickchart {\n",
              "    background-color: var(--bg-color);\n",
              "    border: none;\n",
              "    border-radius: 50%;\n",
              "    cursor: pointer;\n",
              "    display: none;\n",
              "    fill: var(--fill-color);\n",
              "    height: 32px;\n",
              "    padding: 0;\n",
              "    width: 32px;\n",
              "  }\n",
              "\n",
              "  .colab-df-quickchart:hover {\n",
              "    background-color: var(--hover-bg-color);\n",
              "    box-shadow: 0 1px 2px rgba(60, 64, 67, 0.3), 0 1px 3px 1px rgba(60, 64, 67, 0.15);\n",
              "    fill: var(--button-hover-fill-color);\n",
              "  }\n",
              "\n",
              "  .colab-df-quickchart-complete:disabled,\n",
              "  .colab-df-quickchart-complete:disabled:hover {\n",
              "    background-color: var(--disabled-bg-color);\n",
              "    fill: var(--disabled-fill-color);\n",
              "    box-shadow: none;\n",
              "  }\n",
              "\n",
              "  .colab-df-spinner {\n",
              "    border: 2px solid var(--fill-color);\n",
              "    border-color: transparent;\n",
              "    border-bottom-color: var(--fill-color);\n",
              "    animation:\n",
              "      spin 1s steps(1) infinite;\n",
              "  }\n",
              "\n",
              "  @keyframes spin {\n",
              "    0% {\n",
              "      border-color: transparent;\n",
              "      border-bottom-color: var(--fill-color);\n",
              "      border-left-color: var(--fill-color);\n",
              "    }\n",
              "    20% {\n",
              "      border-color: transparent;\n",
              "      border-left-color: var(--fill-color);\n",
              "      border-top-color: var(--fill-color);\n",
              "    }\n",
              "    30% {\n",
              "      border-color: transparent;\n",
              "      border-left-color: var(--fill-color);\n",
              "      border-top-color: var(--fill-color);\n",
              "      border-right-color: var(--fill-color);\n",
              "    }\n",
              "    40% {\n",
              "      border-color: transparent;\n",
              "      border-right-color: var(--fill-color);\n",
              "      border-top-color: var(--fill-color);\n",
              "    }\n",
              "    60% {\n",
              "      border-color: transparent;\n",
              "      border-right-color: var(--fill-color);\n",
              "    }\n",
              "    80% {\n",
              "      border-color: transparent;\n",
              "      border-right-color: var(--fill-color);\n",
              "      border-bottom-color: var(--fill-color);\n",
              "    }\n",
              "    90% {\n",
              "      border-color: transparent;\n",
              "      border-bottom-color: var(--fill-color);\n",
              "    }\n",
              "  }\n",
              "</style>\n",
              "\n",
              "  <script>\n",
              "    async function quickchart(key) {\n",
              "      const quickchartButtonEl =\n",
              "        document.querySelector('#' + key + ' button');\n",
              "      quickchartButtonEl.disabled = true;  // To prevent multiple clicks.\n",
              "      quickchartButtonEl.classList.add('colab-df-spinner');\n",
              "      try {\n",
              "        const charts = await google.colab.kernel.invokeFunction(\n",
              "            'suggestCharts', [key], {});\n",
              "      } catch (error) {\n",
              "        console.error('Error during call to suggestCharts:', error);\n",
              "      }\n",
              "      quickchartButtonEl.classList.remove('colab-df-spinner');\n",
              "      quickchartButtonEl.classList.add('colab-df-quickchart-complete');\n",
              "    }\n",
              "    (() => {\n",
              "      let quickchartButtonEl =\n",
              "        document.querySelector('#df-430c7ded-2caa-4b82-a9b9-06b3861cd00d button');\n",
              "      quickchartButtonEl.style.display =\n",
              "        google.colab.kernel.accessAllowed ? 'block' : 'none';\n",
              "    })();\n",
              "  </script>\n",
              "</div>\n",
              "\n",
              "    </div>\n",
              "  </div>\n"
            ],
            "text/plain": [
              "       reviewerID        asin reviewerName helpful  \\\n",
              "0  A1YJEY40YUW4SE  7806397051       Andrea  [3, 4]   \n",
              "1   A60XNB876KYML  7806397051   Jessica H.  [1, 1]   \n",
              "2  A3G6XNM240RMWA  7806397051        Karen  [0, 1]   \n",
              "3  A1PQFP6SAJ6D80  7806397051        Norah  [2, 2]   \n",
              "4  A38FVHZTNQ271F  7806397051    Nova Amor  [0, 0]   \n",
              "\n",
              "                                          reviewText  overall  \\\n",
              "0  Very oily and creamy. Not at all what I expect...        1   \n",
              "1  This palette was a decent price and I was look...        3   \n",
              "2  The texture of this concealer pallet is fantas...        4   \n",
              "3  I really can't tell what exactly this thing is...        2   \n",
              "4  It was a little smaller than I expected, but t...        3   \n",
              "\n",
              "                  summary  unixReviewTime   reviewTime  \n",
              "0  Don't waste your money      1391040000  01 30, 2014  \n",
              "1             OK Palette!      1397779200  04 18, 2014  \n",
              "2           great quality      1378425600   09 6, 2013  \n",
              "3  Do not work on my face      1386460800   12 8, 2013  \n",
              "4              It's okay.      1382140800  10 19, 2013  "
            ]
          },
          "execution_count": 4,
          "metadata": {},
          "output_type": "execute_result"
        }
      ],
      "source": [
        "df.head(5)"
      ]
    },
    {
      "cell_type": "code",
      "execution_count": null,
      "metadata": {
        "colab": {
          "base_uri": "https://localhost:8080/",
          "height": 366
        },
        "id": "ndgGxb0KllHX",
        "outputId": "f2ae3a8a-741f-45c6-f56c-48f53f8ea8d0"
      },
      "outputs": [
        {
          "output_type": "execute_result",
          "data": {
            "text/plain": [
              "reviewerID           0\n",
              "asin                 0\n",
              "reviewerName      1386\n",
              "helpful              0\n",
              "reviewText           0\n",
              "overall              0\n",
              "summary              0\n",
              "unixReviewTime       0\n",
              "reviewTime           0\n",
              "dtype: int64"
            ],
            "text/html": [
              "<div>\n",
              "<style scoped>\n",
              "    .dataframe tbody tr th:only-of-type {\n",
              "        vertical-align: middle;\n",
              "    }\n",
              "\n",
              "    .dataframe tbody tr th {\n",
              "        vertical-align: top;\n",
              "    }\n",
              "\n",
              "    .dataframe thead th {\n",
              "        text-align: right;\n",
              "    }\n",
              "</style>\n",
              "<table border=\"1\" class=\"dataframe\">\n",
              "  <thead>\n",
              "    <tr style=\"text-align: right;\">\n",
              "      <th></th>\n",
              "      <th>0</th>\n",
              "    </tr>\n",
              "  </thead>\n",
              "  <tbody>\n",
              "    <tr>\n",
              "      <th>reviewerID</th>\n",
              "      <td>0</td>\n",
              "    </tr>\n",
              "    <tr>\n",
              "      <th>asin</th>\n",
              "      <td>0</td>\n",
              "    </tr>\n",
              "    <tr>\n",
              "      <th>reviewerName</th>\n",
              "      <td>1386</td>\n",
              "    </tr>\n",
              "    <tr>\n",
              "      <th>helpful</th>\n",
              "      <td>0</td>\n",
              "    </tr>\n",
              "    <tr>\n",
              "      <th>reviewText</th>\n",
              "      <td>0</td>\n",
              "    </tr>\n",
              "    <tr>\n",
              "      <th>overall</th>\n",
              "      <td>0</td>\n",
              "    </tr>\n",
              "    <tr>\n",
              "      <th>summary</th>\n",
              "      <td>0</td>\n",
              "    </tr>\n",
              "    <tr>\n",
              "      <th>unixReviewTime</th>\n",
              "      <td>0</td>\n",
              "    </tr>\n",
              "    <tr>\n",
              "      <th>reviewTime</th>\n",
              "      <td>0</td>\n",
              "    </tr>\n",
              "  </tbody>\n",
              "</table>\n",
              "</div><br><label><b>dtype:</b> int64</label>"
            ]
          },
          "metadata": {},
          "execution_count": 6
        }
      ],
      "source": [
        "#checking for nulls\n",
        "df.isna().sum()"
      ]
    },
    {
      "cell_type": "code",
      "execution_count": null,
      "metadata": {
        "id": "nMn5yolClr8R"
      },
      "outputs": [],
      "source": [
        "#1386 reviewerNames left blank; we will not need reviewerName since utilizing reviewerID\n",
        "#checking that all needed information is provided when reviewerName is NaN"
      ]
    },
    {
      "cell_type": "code",
      "execution_count": null,
      "metadata": {
        "colab": {
          "base_uri": "https://localhost:8080/",
          "height": 597
        },
        "id": "bUhfRY1clt46",
        "outputId": "81a24d0f-bb91-43c5-a71b-618a2b64a611"
      },
      "outputs": [
        {
          "output_type": "execute_result",
          "data": {
            "text/plain": [
              "            reviewerID        asin reviewerName   helpful  \\\n",
              "8       A3LMILRM9OC3SA  9759091062          NaN    [0, 0]   \n",
              "1790     AK1H26O8DLMNN  B0000535UM          NaN    [0, 0]   \n",
              "2242     APTLHR9PHGPXN  B00005NAOD          NaN    [0, 0]   \n",
              "2304     AQWX644AFUFFK  B00005NFBD          NaN    [0, 0]   \n",
              "3651     A43K5ZRQ87TO6  B00008PC1O          NaN    [0, 0]   \n",
              "...                ...         ...          ...       ...   \n",
              "197192  A1Z3AV93ONK5VF  B00KAL5JAU          NaN    [0, 0]   \n",
              "197193  A184I8GT3BHZQV  B00KAL5JAU          NaN    [0, 1]   \n",
              "197194    A8C9EJORQD23  B00KAL5JAU          NaN    [0, 1]   \n",
              "198446  A2PIGZCDGM4NJ7  B00L5JHZJO          NaN  [10, 11]   \n",
              "198447  A3M1ADU4JICQR2  B00L5JHZJO          NaN    [5, 6]   \n",
              "\n",
              "                                               reviewText  overall  \\\n",
              "8       Did nothing for me. Stings when I put it on. I...        2   \n",
              "1790    The first thickening shampoo that works on my ...        5   \n",
              "2242    Kind of drying, not moisturizing. Kind of disa...        2   \n",
              "2304    This is just ok. For one, I found this in a st...        3   \n",
              "3651                          Works well and easy to use!        5   \n",
              "...                                                   ...      ...   \n",
              "197192  We already had the Dead Sea Shampoo by Adovia ...        5   \n",
              "197193  &#60;a href=&#34;http://www.tomoson.com/?code=...        5   \n",
              "197194  I use this with the Adovia shampoo I mention a...        5   \n",
              "198446  This is a horrible product, most of the review...        1   \n",
              "198447  I bought this for my wife, as she loves using ...        1   \n",
              "\n",
              "                                            summary  unixReviewTime  \\\n",
              "8       no Lightening, no Brightening,......NOTHING      1405209600   \n",
              "1790                                 Actually works      1405123200   \n",
              "2242                  Inexpensive and feels that wY      1405209600   \n",
              "2304                            Ok, nothing amazing      1405468800   \n",
              "3651                                     Five Stars      1405296000   \n",
              "...                                             ...             ...   \n",
              "197192                 Non greasy, silky shiny hair      1401235200   \n",
              "197193               Dead Sea Salt hair conditioner      1403568000   \n",
              "197194                   Adovia does natural right!      1402272000   \n",
              "198446                                  Bad Product      1404864000   \n",
              "198447                                 Not satisfed      1404432000   \n",
              "\n",
              "         reviewTime  \n",
              "8       07 13, 2014  \n",
              "1790    07 12, 2014  \n",
              "2242    07 13, 2014  \n",
              "2304    07 16, 2014  \n",
              "3651    07 14, 2014  \n",
              "...             ...  \n",
              "197192  05 28, 2014  \n",
              "197193  06 24, 2014  \n",
              "197194   06 9, 2014  \n",
              "198446   07 9, 2014  \n",
              "198447   07 4, 2014  \n",
              "\n",
              "[1386 rows x 9 columns]"
            ],
            "text/html": [
              "\n",
              "  <div id=\"df-425dea95-92a2-4d42-8922-3a4497ec133b\" class=\"colab-df-container\">\n",
              "    <div>\n",
              "<style scoped>\n",
              "    .dataframe tbody tr th:only-of-type {\n",
              "        vertical-align: middle;\n",
              "    }\n",
              "\n",
              "    .dataframe tbody tr th {\n",
              "        vertical-align: top;\n",
              "    }\n",
              "\n",
              "    .dataframe thead th {\n",
              "        text-align: right;\n",
              "    }\n",
              "</style>\n",
              "<table border=\"1\" class=\"dataframe\">\n",
              "  <thead>\n",
              "    <tr style=\"text-align: right;\">\n",
              "      <th></th>\n",
              "      <th>reviewerID</th>\n",
              "      <th>asin</th>\n",
              "      <th>reviewerName</th>\n",
              "      <th>helpful</th>\n",
              "      <th>reviewText</th>\n",
              "      <th>overall</th>\n",
              "      <th>summary</th>\n",
              "      <th>unixReviewTime</th>\n",
              "      <th>reviewTime</th>\n",
              "    </tr>\n",
              "  </thead>\n",
              "  <tbody>\n",
              "    <tr>\n",
              "      <th>8</th>\n",
              "      <td>A3LMILRM9OC3SA</td>\n",
              "      <td>9759091062</td>\n",
              "      <td>NaN</td>\n",
              "      <td>[0, 0]</td>\n",
              "      <td>Did nothing for me. Stings when I put it on. I...</td>\n",
              "      <td>2</td>\n",
              "      <td>no Lightening, no Brightening,......NOTHING</td>\n",
              "      <td>1405209600</td>\n",
              "      <td>07 13, 2014</td>\n",
              "    </tr>\n",
              "    <tr>\n",
              "      <th>1790</th>\n",
              "      <td>AK1H26O8DLMNN</td>\n",
              "      <td>B0000535UM</td>\n",
              "      <td>NaN</td>\n",
              "      <td>[0, 0]</td>\n",
              "      <td>The first thickening shampoo that works on my ...</td>\n",
              "      <td>5</td>\n",
              "      <td>Actually works</td>\n",
              "      <td>1405123200</td>\n",
              "      <td>07 12, 2014</td>\n",
              "    </tr>\n",
              "    <tr>\n",
              "      <th>2242</th>\n",
              "      <td>APTLHR9PHGPXN</td>\n",
              "      <td>B00005NAOD</td>\n",
              "      <td>NaN</td>\n",
              "      <td>[0, 0]</td>\n",
              "      <td>Kind of drying, not moisturizing. Kind of disa...</td>\n",
              "      <td>2</td>\n",
              "      <td>Inexpensive and feels that wY</td>\n",
              "      <td>1405209600</td>\n",
              "      <td>07 13, 2014</td>\n",
              "    </tr>\n",
              "    <tr>\n",
              "      <th>2304</th>\n",
              "      <td>AQWX644AFUFFK</td>\n",
              "      <td>B00005NFBD</td>\n",
              "      <td>NaN</td>\n",
              "      <td>[0, 0]</td>\n",
              "      <td>This is just ok. For one, I found this in a st...</td>\n",
              "      <td>3</td>\n",
              "      <td>Ok, nothing amazing</td>\n",
              "      <td>1405468800</td>\n",
              "      <td>07 16, 2014</td>\n",
              "    </tr>\n",
              "    <tr>\n",
              "      <th>3651</th>\n",
              "      <td>A43K5ZRQ87TO6</td>\n",
              "      <td>B00008PC1O</td>\n",
              "      <td>NaN</td>\n",
              "      <td>[0, 0]</td>\n",
              "      <td>Works well and easy to use!</td>\n",
              "      <td>5</td>\n",
              "      <td>Five Stars</td>\n",
              "      <td>1405296000</td>\n",
              "      <td>07 14, 2014</td>\n",
              "    </tr>\n",
              "    <tr>\n",
              "      <th>...</th>\n",
              "      <td>...</td>\n",
              "      <td>...</td>\n",
              "      <td>...</td>\n",
              "      <td>...</td>\n",
              "      <td>...</td>\n",
              "      <td>...</td>\n",
              "      <td>...</td>\n",
              "      <td>...</td>\n",
              "      <td>...</td>\n",
              "    </tr>\n",
              "    <tr>\n",
              "      <th>197192</th>\n",
              "      <td>A1Z3AV93ONK5VF</td>\n",
              "      <td>B00KAL5JAU</td>\n",
              "      <td>NaN</td>\n",
              "      <td>[0, 0]</td>\n",
              "      <td>We already had the Dead Sea Shampoo by Adovia ...</td>\n",
              "      <td>5</td>\n",
              "      <td>Non greasy, silky shiny hair</td>\n",
              "      <td>1401235200</td>\n",
              "      <td>05 28, 2014</td>\n",
              "    </tr>\n",
              "    <tr>\n",
              "      <th>197193</th>\n",
              "      <td>A184I8GT3BHZQV</td>\n",
              "      <td>B00KAL5JAU</td>\n",
              "      <td>NaN</td>\n",
              "      <td>[0, 1]</td>\n",
              "      <td>&amp;#60;a href=&amp;#34;http://www.tomoson.com/?code=...</td>\n",
              "      <td>5</td>\n",
              "      <td>Dead Sea Salt hair conditioner</td>\n",
              "      <td>1403568000</td>\n",
              "      <td>06 24, 2014</td>\n",
              "    </tr>\n",
              "    <tr>\n",
              "      <th>197194</th>\n",
              "      <td>A8C9EJORQD23</td>\n",
              "      <td>B00KAL5JAU</td>\n",
              "      <td>NaN</td>\n",
              "      <td>[0, 1]</td>\n",
              "      <td>I use this with the Adovia shampoo I mention a...</td>\n",
              "      <td>5</td>\n",
              "      <td>Adovia does natural right!</td>\n",
              "      <td>1402272000</td>\n",
              "      <td>06 9, 2014</td>\n",
              "    </tr>\n",
              "    <tr>\n",
              "      <th>198446</th>\n",
              "      <td>A2PIGZCDGM4NJ7</td>\n",
              "      <td>B00L5JHZJO</td>\n",
              "      <td>NaN</td>\n",
              "      <td>[10, 11]</td>\n",
              "      <td>This is a horrible product, most of the review...</td>\n",
              "      <td>1</td>\n",
              "      <td>Bad Product</td>\n",
              "      <td>1404864000</td>\n",
              "      <td>07 9, 2014</td>\n",
              "    </tr>\n",
              "    <tr>\n",
              "      <th>198447</th>\n",
              "      <td>A3M1ADU4JICQR2</td>\n",
              "      <td>B00L5JHZJO</td>\n",
              "      <td>NaN</td>\n",
              "      <td>[5, 6]</td>\n",
              "      <td>I bought this for my wife, as she loves using ...</td>\n",
              "      <td>1</td>\n",
              "      <td>Not satisfed</td>\n",
              "      <td>1404432000</td>\n",
              "      <td>07 4, 2014</td>\n",
              "    </tr>\n",
              "  </tbody>\n",
              "</table>\n",
              "<p>1386 rows × 9 columns</p>\n",
              "</div>\n",
              "    <div class=\"colab-df-buttons\">\n",
              "\n",
              "  <div class=\"colab-df-container\">\n",
              "    <button class=\"colab-df-convert\" onclick=\"convertToInteractive('df-425dea95-92a2-4d42-8922-3a4497ec133b')\"\n",
              "            title=\"Convert this dataframe to an interactive table.\"\n",
              "            style=\"display:none;\">\n",
              "\n",
              "  <svg xmlns=\"http://www.w3.org/2000/svg\" height=\"24px\" viewBox=\"0 -960 960 960\">\n",
              "    <path d=\"M120-120v-720h720v720H120Zm60-500h600v-160H180v160Zm220 220h160v-160H400v160Zm0 220h160v-160H400v160ZM180-400h160v-160H180v160Zm440 0h160v-160H620v160ZM180-180h160v-160H180v160Zm440 0h160v-160H620v160Z\"/>\n",
              "  </svg>\n",
              "    </button>\n",
              "\n",
              "  <style>\n",
              "    .colab-df-container {\n",
              "      display:flex;\n",
              "      gap: 12px;\n",
              "    }\n",
              "\n",
              "    .colab-df-convert {\n",
              "      background-color: #E8F0FE;\n",
              "      border: none;\n",
              "      border-radius: 50%;\n",
              "      cursor: pointer;\n",
              "      display: none;\n",
              "      fill: #1967D2;\n",
              "      height: 32px;\n",
              "      padding: 0 0 0 0;\n",
              "      width: 32px;\n",
              "    }\n",
              "\n",
              "    .colab-df-convert:hover {\n",
              "      background-color: #E2EBFA;\n",
              "      box-shadow: 0px 1px 2px rgba(60, 64, 67, 0.3), 0px 1px 3px 1px rgba(60, 64, 67, 0.15);\n",
              "      fill: #174EA6;\n",
              "    }\n",
              "\n",
              "    .colab-df-buttons div {\n",
              "      margin-bottom: 4px;\n",
              "    }\n",
              "\n",
              "    [theme=dark] .colab-df-convert {\n",
              "      background-color: #3B4455;\n",
              "      fill: #D2E3FC;\n",
              "    }\n",
              "\n",
              "    [theme=dark] .colab-df-convert:hover {\n",
              "      background-color: #434B5C;\n",
              "      box-shadow: 0px 1px 3px 1px rgba(0, 0, 0, 0.15);\n",
              "      filter: drop-shadow(0px 1px 2px rgba(0, 0, 0, 0.3));\n",
              "      fill: #FFFFFF;\n",
              "    }\n",
              "  </style>\n",
              "\n",
              "    <script>\n",
              "      const buttonEl =\n",
              "        document.querySelector('#df-425dea95-92a2-4d42-8922-3a4497ec133b button.colab-df-convert');\n",
              "      buttonEl.style.display =\n",
              "        google.colab.kernel.accessAllowed ? 'block' : 'none';\n",
              "\n",
              "      async function convertToInteractive(key) {\n",
              "        const element = document.querySelector('#df-425dea95-92a2-4d42-8922-3a4497ec133b');\n",
              "        const dataTable =\n",
              "          await google.colab.kernel.invokeFunction('convertToInteractive',\n",
              "                                                    [key], {});\n",
              "        if (!dataTable) return;\n",
              "\n",
              "        const docLinkHtml = 'Like what you see? Visit the ' +\n",
              "          '<a target=\"_blank\" href=https://colab.research.google.com/notebooks/data_table.ipynb>data table notebook</a>'\n",
              "          + ' to learn more about interactive tables.';\n",
              "        element.innerHTML = '';\n",
              "        dataTable['output_type'] = 'display_data';\n",
              "        await google.colab.output.renderOutput(dataTable, element);\n",
              "        const docLink = document.createElement('div');\n",
              "        docLink.innerHTML = docLinkHtml;\n",
              "        element.appendChild(docLink);\n",
              "      }\n",
              "    </script>\n",
              "  </div>\n",
              "\n",
              "\n",
              "<div id=\"df-6d208502-6a24-4d2e-b50a-3df31e8a5243\">\n",
              "  <button class=\"colab-df-quickchart\" onclick=\"quickchart('df-6d208502-6a24-4d2e-b50a-3df31e8a5243')\"\n",
              "            title=\"Suggest charts\"\n",
              "            style=\"display:none;\">\n",
              "\n",
              "<svg xmlns=\"http://www.w3.org/2000/svg\" height=\"24px\"viewBox=\"0 0 24 24\"\n",
              "     width=\"24px\">\n",
              "    <g>\n",
              "        <path d=\"M19 3H5c-1.1 0-2 .9-2 2v14c0 1.1.9 2 2 2h14c1.1 0 2-.9 2-2V5c0-1.1-.9-2-2-2zM9 17H7v-7h2v7zm4 0h-2V7h2v10zm4 0h-2v-4h2v4z\"/>\n",
              "    </g>\n",
              "</svg>\n",
              "  </button>\n",
              "\n",
              "<style>\n",
              "  .colab-df-quickchart {\n",
              "      --bg-color: #E8F0FE;\n",
              "      --fill-color: #1967D2;\n",
              "      --hover-bg-color: #E2EBFA;\n",
              "      --hover-fill-color: #174EA6;\n",
              "      --disabled-fill-color: #AAA;\n",
              "      --disabled-bg-color: #DDD;\n",
              "  }\n",
              "\n",
              "  [theme=dark] .colab-df-quickchart {\n",
              "      --bg-color: #3B4455;\n",
              "      --fill-color: #D2E3FC;\n",
              "      --hover-bg-color: #434B5C;\n",
              "      --hover-fill-color: #FFFFFF;\n",
              "      --disabled-bg-color: #3B4455;\n",
              "      --disabled-fill-color: #666;\n",
              "  }\n",
              "\n",
              "  .colab-df-quickchart {\n",
              "    background-color: var(--bg-color);\n",
              "    border: none;\n",
              "    border-radius: 50%;\n",
              "    cursor: pointer;\n",
              "    display: none;\n",
              "    fill: var(--fill-color);\n",
              "    height: 32px;\n",
              "    padding: 0;\n",
              "    width: 32px;\n",
              "  }\n",
              "\n",
              "  .colab-df-quickchart:hover {\n",
              "    background-color: var(--hover-bg-color);\n",
              "    box-shadow: 0 1px 2px rgba(60, 64, 67, 0.3), 0 1px 3px 1px rgba(60, 64, 67, 0.15);\n",
              "    fill: var(--button-hover-fill-color);\n",
              "  }\n",
              "\n",
              "  .colab-df-quickchart-complete:disabled,\n",
              "  .colab-df-quickchart-complete:disabled:hover {\n",
              "    background-color: var(--disabled-bg-color);\n",
              "    fill: var(--disabled-fill-color);\n",
              "    box-shadow: none;\n",
              "  }\n",
              "\n",
              "  .colab-df-spinner {\n",
              "    border: 2px solid var(--fill-color);\n",
              "    border-color: transparent;\n",
              "    border-bottom-color: var(--fill-color);\n",
              "    animation:\n",
              "      spin 1s steps(1) infinite;\n",
              "  }\n",
              "\n",
              "  @keyframes spin {\n",
              "    0% {\n",
              "      border-color: transparent;\n",
              "      border-bottom-color: var(--fill-color);\n",
              "      border-left-color: var(--fill-color);\n",
              "    }\n",
              "    20% {\n",
              "      border-color: transparent;\n",
              "      border-left-color: var(--fill-color);\n",
              "      border-top-color: var(--fill-color);\n",
              "    }\n",
              "    30% {\n",
              "      border-color: transparent;\n",
              "      border-left-color: var(--fill-color);\n",
              "      border-top-color: var(--fill-color);\n",
              "      border-right-color: var(--fill-color);\n",
              "    }\n",
              "    40% {\n",
              "      border-color: transparent;\n",
              "      border-right-color: var(--fill-color);\n",
              "      border-top-color: var(--fill-color);\n",
              "    }\n",
              "    60% {\n",
              "      border-color: transparent;\n",
              "      border-right-color: var(--fill-color);\n",
              "    }\n",
              "    80% {\n",
              "      border-color: transparent;\n",
              "      border-right-color: var(--fill-color);\n",
              "      border-bottom-color: var(--fill-color);\n",
              "    }\n",
              "    90% {\n",
              "      border-color: transparent;\n",
              "      border-bottom-color: var(--fill-color);\n",
              "    }\n",
              "  }\n",
              "</style>\n",
              "\n",
              "  <script>\n",
              "    async function quickchart(key) {\n",
              "      const quickchartButtonEl =\n",
              "        document.querySelector('#' + key + ' button');\n",
              "      quickchartButtonEl.disabled = true;  // To prevent multiple clicks.\n",
              "      quickchartButtonEl.classList.add('colab-df-spinner');\n",
              "      try {\n",
              "        const charts = await google.colab.kernel.invokeFunction(\n",
              "            'suggestCharts', [key], {});\n",
              "      } catch (error) {\n",
              "        console.error('Error during call to suggestCharts:', error);\n",
              "      }\n",
              "      quickchartButtonEl.classList.remove('colab-df-spinner');\n",
              "      quickchartButtonEl.classList.add('colab-df-quickchart-complete');\n",
              "    }\n",
              "    (() => {\n",
              "      let quickchartButtonEl =\n",
              "        document.querySelector('#df-6d208502-6a24-4d2e-b50a-3df31e8a5243 button');\n",
              "      quickchartButtonEl.style.display =\n",
              "        google.colab.kernel.accessAllowed ? 'block' : 'none';\n",
              "    })();\n",
              "  </script>\n",
              "</div>\n",
              "\n",
              "    </div>\n",
              "  </div>\n"
            ],
            "application/vnd.google.colaboratory.intrinsic+json": {
              "type": "dataframe",
              "repr_error": "0"
            }
          },
          "metadata": {},
          "execution_count": 7
        }
      ],
      "source": [
        "df[df['reviewerName'].isnull()]"
      ]
    },
    {
      "cell_type": "code",
      "execution_count": null,
      "metadata": {
        "id": "qhRqwll0lvw3"
      },
      "outputs": [],
      "source": [
        "#checking that all reviewers have completed at least 5 reviews"
      ]
    },
    {
      "cell_type": "code",
      "execution_count": null,
      "metadata": {
        "colab": {
          "base_uri": "https://localhost:8080/",
          "height": 489
        },
        "id": "jmzQXXXQlxum",
        "outputId": "13ea3072-ca1d-49ef-dc38-b5ab051be1d9"
      },
      "outputs": [
        {
          "output_type": "execute_result",
          "data": {
            "text/plain": [
              "reviewerID\n",
              "A2V5R832QCSOMX    204\n",
              "ALNFHVS3SC4FV     192\n",
              "AKMEY1BSHSDG7     182\n",
              "A3KEZLJ59C1JVH    154\n",
              "ALQGOMOY1F5X9     150\n",
              "                 ... \n",
              "A2E1P9J6TTHLS6      5\n",
              "A1F09METOUKOCH      5\n",
              "AJDOMSU08A256       5\n",
              "A5AXASLO6LDMH       5\n",
              "A2CG5Y82ZZNY6W      5\n",
              "Name: count, Length: 22363, dtype: int64"
            ],
            "text/html": [
              "<div>\n",
              "<style scoped>\n",
              "    .dataframe tbody tr th:only-of-type {\n",
              "        vertical-align: middle;\n",
              "    }\n",
              "\n",
              "    .dataframe tbody tr th {\n",
              "        vertical-align: top;\n",
              "    }\n",
              "\n",
              "    .dataframe thead th {\n",
              "        text-align: right;\n",
              "    }\n",
              "</style>\n",
              "<table border=\"1\" class=\"dataframe\">\n",
              "  <thead>\n",
              "    <tr style=\"text-align: right;\">\n",
              "      <th></th>\n",
              "      <th>count</th>\n",
              "    </tr>\n",
              "    <tr>\n",
              "      <th>reviewerID</th>\n",
              "      <th></th>\n",
              "    </tr>\n",
              "  </thead>\n",
              "  <tbody>\n",
              "    <tr>\n",
              "      <th>A2V5R832QCSOMX</th>\n",
              "      <td>204</td>\n",
              "    </tr>\n",
              "    <tr>\n",
              "      <th>ALNFHVS3SC4FV</th>\n",
              "      <td>192</td>\n",
              "    </tr>\n",
              "    <tr>\n",
              "      <th>AKMEY1BSHSDG7</th>\n",
              "      <td>182</td>\n",
              "    </tr>\n",
              "    <tr>\n",
              "      <th>A3KEZLJ59C1JVH</th>\n",
              "      <td>154</td>\n",
              "    </tr>\n",
              "    <tr>\n",
              "      <th>ALQGOMOY1F5X9</th>\n",
              "      <td>150</td>\n",
              "    </tr>\n",
              "    <tr>\n",
              "      <th>...</th>\n",
              "      <td>...</td>\n",
              "    </tr>\n",
              "    <tr>\n",
              "      <th>A2E1P9J6TTHLS6</th>\n",
              "      <td>5</td>\n",
              "    </tr>\n",
              "    <tr>\n",
              "      <th>A1F09METOUKOCH</th>\n",
              "      <td>5</td>\n",
              "    </tr>\n",
              "    <tr>\n",
              "      <th>AJDOMSU08A256</th>\n",
              "      <td>5</td>\n",
              "    </tr>\n",
              "    <tr>\n",
              "      <th>A5AXASLO6LDMH</th>\n",
              "      <td>5</td>\n",
              "    </tr>\n",
              "    <tr>\n",
              "      <th>A2CG5Y82ZZNY6W</th>\n",
              "      <td>5</td>\n",
              "    </tr>\n",
              "  </tbody>\n",
              "</table>\n",
              "<p>22363 rows × 1 columns</p>\n",
              "</div><br><label><b>dtype:</b> int64</label>"
            ]
          },
          "metadata": {},
          "execution_count": 8
        }
      ],
      "source": [
        "df.reviewerID.value_counts()"
      ]
    },
    {
      "cell_type": "code",
      "execution_count": null,
      "metadata": {
        "id": "QWKFeC-klzY9"
      },
      "outputs": [],
      "source": [
        "#YAY! all reviewerIDs have value of at least 5, total of 22,363 reviewers"
      ]
    },
    {
      "cell_type": "code",
      "execution_count": null,
      "metadata": {
        "id": "t116CAHBl25J"
      },
      "outputs": [],
      "source": [
        "#checking that all products have been reviewed at least 5 times"
      ]
    },
    {
      "cell_type": "code",
      "execution_count": null,
      "metadata": {
        "colab": {
          "base_uri": "https://localhost:8080/",
          "height": 489
        },
        "id": "UYzXSul8l4bt",
        "outputId": "666038e8-3d6b-4b14-f018-3173ad5eea64"
      },
      "outputs": [
        {
          "output_type": "execute_result",
          "data": {
            "text/plain": [
              "asin\n",
              "B004OHQR1Q    431\n",
              "B0043OYFKU    403\n",
              "B0069FDR96    391\n",
              "B000ZMBSPE    389\n",
              "B00150LT40    329\n",
              "             ... \n",
              "B0084OCSAE      5\n",
              "B0084SSLVK      5\n",
              "B0084T82A4      5\n",
              "B0013N896U      5\n",
              "B001AJOEFM      5\n",
              "Name: count, Length: 12101, dtype: int64"
            ],
            "text/html": [
              "<div>\n",
              "<style scoped>\n",
              "    .dataframe tbody tr th:only-of-type {\n",
              "        vertical-align: middle;\n",
              "    }\n",
              "\n",
              "    .dataframe tbody tr th {\n",
              "        vertical-align: top;\n",
              "    }\n",
              "\n",
              "    .dataframe thead th {\n",
              "        text-align: right;\n",
              "    }\n",
              "</style>\n",
              "<table border=\"1\" class=\"dataframe\">\n",
              "  <thead>\n",
              "    <tr style=\"text-align: right;\">\n",
              "      <th></th>\n",
              "      <th>count</th>\n",
              "    </tr>\n",
              "    <tr>\n",
              "      <th>asin</th>\n",
              "      <th></th>\n",
              "    </tr>\n",
              "  </thead>\n",
              "  <tbody>\n",
              "    <tr>\n",
              "      <th>B004OHQR1Q</th>\n",
              "      <td>431</td>\n",
              "    </tr>\n",
              "    <tr>\n",
              "      <th>B0043OYFKU</th>\n",
              "      <td>403</td>\n",
              "    </tr>\n",
              "    <tr>\n",
              "      <th>B0069FDR96</th>\n",
              "      <td>391</td>\n",
              "    </tr>\n",
              "    <tr>\n",
              "      <th>B000ZMBSPE</th>\n",
              "      <td>389</td>\n",
              "    </tr>\n",
              "    <tr>\n",
              "      <th>B00150LT40</th>\n",
              "      <td>329</td>\n",
              "    </tr>\n",
              "    <tr>\n",
              "      <th>...</th>\n",
              "      <td>...</td>\n",
              "    </tr>\n",
              "    <tr>\n",
              "      <th>B0084OCSAE</th>\n",
              "      <td>5</td>\n",
              "    </tr>\n",
              "    <tr>\n",
              "      <th>B0084SSLVK</th>\n",
              "      <td>5</td>\n",
              "    </tr>\n",
              "    <tr>\n",
              "      <th>B0084T82A4</th>\n",
              "      <td>5</td>\n",
              "    </tr>\n",
              "    <tr>\n",
              "      <th>B0013N896U</th>\n",
              "      <td>5</td>\n",
              "    </tr>\n",
              "    <tr>\n",
              "      <th>B001AJOEFM</th>\n",
              "      <td>5</td>\n",
              "    </tr>\n",
              "  </tbody>\n",
              "</table>\n",
              "<p>12101 rows × 1 columns</p>\n",
              "</div><br><label><b>dtype:</b> int64</label>"
            ]
          },
          "metadata": {},
          "execution_count": 9
        }
      ],
      "source": [
        "df.asin.value_counts()"
      ]
    },
    {
      "cell_type": "code",
      "execution_count": null,
      "metadata": {
        "id": "m7mxtxEdl6nF"
      },
      "outputs": [],
      "source": [
        "#YAY! all products have at least 5 reviews, total of 12,101 different products"
      ]
    },
    {
      "cell_type": "code",
      "execution_count": null,
      "metadata": {
        "id": "dEsgeX5Kl87H"
      },
      "outputs": [],
      "source": [
        "#looking at ratings distribution"
      ]
    },
    {
      "cell_type": "code",
      "execution_count": null,
      "metadata": {
        "id": "07NiYc9fl_Go"
      },
      "outputs": [],
      "source": [
        "import os\n",
        "\n",
        "if not os.path.exists(\"images\"):\n",
        "    os.mkdir(\"images\")"
      ]
    },
    {
      "cell_type": "code",
      "execution_count": null,
      "metadata": {
        "colab": {
          "base_uri": "https://localhost:8080/",
          "height": 698
        },
        "id": "XkL7wXjSmB1z",
        "outputId": "cc558009-a6b8-438d-91e0-526c9cc91365"
      },
      "outputs": [
        {
          "output_type": "stream",
          "name": "stderr",
          "text": [
            "<ipython-input-11-e79a113f23eb>:11: FutureWarning: \n",
            "\n",
            "Passing `palette` without assigning `hue` is deprecated and will be removed in v0.14.0. Assign the `x` variable to `hue` and set `legend=False` for the same effect.\n",
            "\n",
            "  ax = sns.barplot(x=data.index, y=data.values, palette=\"viridis\")\n"
          ]
        },
        {
          "output_type": "display_data",
          "data": {
            "text/plain": [
              "<Figure size 1000x600 with 1 Axes>"
            ],
            "image/png": "[encoded data removed]"
          },
          "metadata": {}
        }
      ],
      "source": [
        "import matplotlib.pyplot as plt\n",
        "import seaborn as sns\n",
        "\n",
        "# Calculate data for plotting\n",
        "data = df['overall'].value_counts().sort_index(ascending=False)\n",
        "\n",
        "# Create a figure and axis\n",
        "plt.figure(figsize=(10, 6))\n",
        "\n",
        "# Create the bar plot using seaborn\n",
        "ax = sns.barplot(x=data.index, y=data.values, palette=\"viridis\")\n",
        "\n",
        "# Add percentage labels on the bars\n",
        "for i, val in enumerate(data.values):\n",
        "    ax.text(i, val + 0.5, '{:.1f}%'.format(val / df.shape[0] * 100),\n",
        "            ha='center', va='bottom', color='black')\n",
        "\n",
        "# Customize plot\n",
        "plt.title(f'Distribution Of {df.shape[0]} Reviews')\n",
        "plt.xlabel('Rating')\n",
        "plt.ylabel('Count')\n",
        "\n",
        "# Show the plot\n",
        "plt.tight_layout()\n",
        "plt.show()\n"
      ]
    },
    {
      "cell_type": "code",
      "execution_count": null,
      "metadata": {
        "id": "v8U56PBtmRDY"
      },
      "outputs": [],
      "source": [
        "#we see a majority of our ratings are 5s, which could impact our system"
      ]
    },
    {
      "cell_type": "code",
      "execution_count": null,
      "metadata": {
        "id": "RRPxL6EbmV3S"
      },
      "outputs": [],
      "source": [
        "#exploring number of ratings per product"
      ]
    },
    {
      "cell_type": "code",
      "execution_count": null,
      "metadata": {
        "id": "uxJbc4aDmaAU"
      },
      "outputs": [],
      "source": [
        "data = df.groupby('asin')['overall'].count().clip(upper=50)"
      ]
    },
    {
      "cell_type": "code",
      "execution_count": null,
      "metadata": {
        "colab": {
          "base_uri": "https://localhost:8080/",
          "height": 489
        },
        "id": "BnArxd-Rmb2b",
        "outputId": "7baad27e-d26b-43ad-ec56-dfdee80475a4"
      },
      "outputs": [
        {
          "data": {
            "text/html": [
              "<div>\n",
              "<style scoped>\n",
              "    .dataframe tbody tr th:only-of-type {\n",
              "        vertical-align: middle;\n",
              "    }\n",
              "\n",
              "    .dataframe tbody tr th {\n",
              "        vertical-align: top;\n",
              "    }\n",
              "\n",
              "    .dataframe thead th {\n",
              "        text-align: right;\n",
              "    }\n",
              "</style>\n",
              "<table border=\"1\" class=\"dataframe\">\n",
              "  <thead>\n",
              "    <tr style=\"text-align: right;\">\n",
              "      <th></th>\n",
              "      <th>overall</th>\n",
              "    </tr>\n",
              "    <tr>\n",
              "      <th>asin</th>\n",
              "      <th></th>\n",
              "    </tr>\n",
              "  </thead>\n",
              "  <tbody>\n",
              "    <tr>\n",
              "      <th>7806397051</th>\n",
              "      <td>8</td>\n",
              "    </tr>\n",
              "    <tr>\n",
              "      <th>9759091062</th>\n",
              "      <td>11</td>\n",
              "    </tr>\n",
              "    <tr>\n",
              "      <th>9788072216</th>\n",
              "      <td>5</td>\n",
              "    </tr>\n",
              "    <tr>\n",
              "      <th>9790790961</th>\n",
              "      <td>6</td>\n",
              "    </tr>\n",
              "    <tr>\n",
              "      <th>9790794231</th>\n",
              "      <td>5</td>\n",
              "    </tr>\n",
              "    <tr>\n",
              "      <th>...</th>\n",
              "      <td>...</td>\n",
              "    </tr>\n",
              "    <tr>\n",
              "      <th>B00L5KTZ0K</th>\n",
              "      <td>15</td>\n",
              "    </tr>\n",
              "    <tr>\n",
              "      <th>B00L6Q3BH6</th>\n",
              "      <td>5</td>\n",
              "    </tr>\n",
              "    <tr>\n",
              "      <th>B00LCEROA2</th>\n",
              "      <td>9</td>\n",
              "    </tr>\n",
              "    <tr>\n",
              "      <th>B00LG63DOM</th>\n",
              "      <td>10</td>\n",
              "    </tr>\n",
              "    <tr>\n",
              "      <th>B00LLPT4HI</th>\n",
              "      <td>7</td>\n",
              "    </tr>\n",
              "  </tbody>\n",
              "</table>\n",
              "<p>12101 rows × 1 columns</p>\n",
              "</div><br><label><b>dtype:</b> int64</label>"
            ],
            "text/plain": [
              "asin\n",
              "7806397051     8\n",
              "9759091062    11\n",
              "9788072216     5\n",
              "9790790961     6\n",
              "9790794231     5\n",
              "              ..\n",
              "B00L5KTZ0K    15\n",
              "B00L6Q3BH6     5\n",
              "B00LCEROA2     9\n",
              "B00LG63DOM    10\n",
              "B00LLPT4HI     7\n",
              "Name: overall, Length: 12101, dtype: int64"
            ]
          },
          "execution_count": 13,
          "metadata": {},
          "output_type": "execute_result"
        }
      ],
      "source": [
        "data"
      ]
    },
    {
      "cell_type": "code",
      "execution_count": null,
      "metadata": {
        "colab": {
          "base_uri": "https://localhost:8080/",
          "height": 489
        },
        "id": "Uwf2sECYmd-m",
        "outputId": "112ac8af-16cc-46ac-a293-9f72f813cb2e"
      },
      "outputs": [
        {
          "output_type": "execute_result",
          "data": {
            "text/plain": [
              "asin\n",
              "7806397051     8\n",
              "9759091062    11\n",
              "9788072216     5\n",
              "9790790961     6\n",
              "9790794231     5\n",
              "              ..\n",
              "B00L5KTZ0K    15\n",
              "B00L6Q3BH6     5\n",
              "B00LCEROA2     9\n",
              "B00LG63DOM    10\n",
              "B00LLPT4HI     7\n",
              "Name: overall, Length: 12101, dtype: int64"
            ],
            "text/html": [
              "<div>\n",
              "<style scoped>\n",
              "    .dataframe tbody tr th:only-of-type {\n",
              "        vertical-align: middle;\n",
              "    }\n",
              "\n",
              "    .dataframe tbody tr th {\n",
              "        vertical-align: top;\n",
              "    }\n",
              "\n",
              "    .dataframe thead th {\n",
              "        text-align: right;\n",
              "    }\n",
              "</style>\n",
              "<table border=\"1\" class=\"dataframe\">\n",
              "  <thead>\n",
              "    <tr style=\"text-align: right;\">\n",
              "      <th></th>\n",
              "      <th>overall</th>\n",
              "    </tr>\n",
              "    <tr>\n",
              "      <th>asin</th>\n",
              "      <th></th>\n",
              "    </tr>\n",
              "  </thead>\n",
              "  <tbody>\n",
              "    <tr>\n",
              "      <th>7806397051</th>\n",
              "      <td>8</td>\n",
              "    </tr>\n",
              "    <tr>\n",
              "      <th>9759091062</th>\n",
              "      <td>11</td>\n",
              "    </tr>\n",
              "    <tr>\n",
              "      <th>9788072216</th>\n",
              "      <td>5</td>\n",
              "    </tr>\n",
              "    <tr>\n",
              "      <th>9790790961</th>\n",
              "      <td>6</td>\n",
              "    </tr>\n",
              "    <tr>\n",
              "      <th>9790794231</th>\n",
              "      <td>5</td>\n",
              "    </tr>\n",
              "    <tr>\n",
              "      <th>...</th>\n",
              "      <td>...</td>\n",
              "    </tr>\n",
              "    <tr>\n",
              "      <th>B00L5KTZ0K</th>\n",
              "      <td>15</td>\n",
              "    </tr>\n",
              "    <tr>\n",
              "      <th>B00L6Q3BH6</th>\n",
              "      <td>5</td>\n",
              "    </tr>\n",
              "    <tr>\n",
              "      <th>B00LCEROA2</th>\n",
              "      <td>9</td>\n",
              "    </tr>\n",
              "    <tr>\n",
              "      <th>B00LG63DOM</th>\n",
              "      <td>10</td>\n",
              "    </tr>\n",
              "    <tr>\n",
              "      <th>B00LLPT4HI</th>\n",
              "      <td>7</td>\n",
              "    </tr>\n",
              "  </tbody>\n",
              "</table>\n",
              "<p>12101 rows × 1 columns</p>\n",
              "</div><br><label><b>dtype:</b> int64</label>"
            ]
          },
          "metadata": {},
          "execution_count": 13
        }
      ],
      "source": [
        "data = df.groupby('asin')['overall'].count()\n",
        "data"
      ]
    },
    {
      "cell_type": "code",
      "execution_count": null,
      "metadata": {
        "colab": {
          "base_uri": "https://localhost:8080/",
          "height": 625
        },
        "id": "qz72JphXmj05",
        "outputId": "9132f3f3-6cdc-49a0-f500-5745157e05d1"
      },
      "outputs": [
        {
          "output_type": "display_data",
          "data": {
            "text/plain": [
              "<Figure size 1000x600 with 1 Axes>"
            ],
            "image/png": "[encoded data removed]"
          },
          "metadata": {}
        },
        {
          "output_type": "display_data",
          "data": {
            "text/plain": [
              "<Figure size 640x480 with 0 Axes>"
            ]
          },
          "metadata": {}
        }
      ],
      "source": [
        "# Data for plotting\n",
        "data = df.groupby('asin')['overall'].count()\n",
        "\n",
        "# Create the figure and axis\n",
        "plt.figure(figsize=(10, 6))\n",
        "\n",
        "# Plot the histogram using seaborn or matplotlib\n",
        "sns.histplot(data.values, bins=range(0, 52, 2), color=\"blue\", kde=False)\n",
        "\n",
        "# Customize the plot\n",
        "plt.title('Distribution Of Number of Reviews Per Product')\n",
        "plt.xlabel('Number of Reviews Per Product')\n",
        "plt.ylabel('Count')\n",
        "\n",
        "# Show the plot\n",
        "plt.tight_layout()\n",
        "plt.show()\n",
        "\n",
        "# Saving the plot to a file as PNG\n",
        "plt.savefig(\"images/reviews_per_product.png\", format='png', dpi=500)"
      ]
    },
    {
      "cell_type": "code",
      "execution_count": null,
      "metadata": {
        "id": "u1IAwTSemzfc"
      },
      "outputs": [],
      "source": [
        "#We see a majority of our projects have 10 or less ratings"
      ]
    },
    {
      "cell_type": "code",
      "execution_count": null,
      "metadata": {
        "id": "PJRyYmAim3s_"
      },
      "outputs": [],
      "source": [
        "#exploring ratings distribution by user"
      ]
    },
    {
      "cell_type": "code",
      "execution_count": null,
      "metadata": {
        "colab": {
          "base_uri": "https://localhost:8080/",
          "height": 625
        },
        "id": "RQLUaX6Bm5nt",
        "outputId": "7ac562ce-b551-4fba-8690-32c683738199"
      },
      "outputs": [
        {
          "output_type": "display_data",
          "data": {
            "text/plain": [
              "<Figure size 1000x600 with 1 Axes>"
            ],
            "image/png": "[encoded data removed]"
          },
          "metadata": {}
        },
        {
          "output_type": "display_data",
          "data": {
            "text/plain": [
              "<Figure size 640x480 with 0 Axes>"
            ]
          },
          "metadata": {}
        }
      ],
      "source": [
        "# Data for plotting\n",
        "data = df.groupby('reviewerID')['overall'].count()\n",
        "\n",
        "# Create the figure and axis\n",
        "plt.figure(figsize=(10, 6))\n",
        "\n",
        "# Plot the histogram using seaborn\n",
        "sns.histplot(data.values, bins=range(0, 52, 2), color=\"green\", kde=False)\n",
        "\n",
        "# Customize the plot\n",
        "plt.title('Distribution Of Number of Reviews Per User')\n",
        "plt.xlabel('Reviews Per User')\n",
        "plt.ylabel('Count')\n",
        "\n",
        "# Show the plot\n",
        "plt.tight_layout()\n",
        "plt.show()\n",
        "\n",
        "# Saving the plot to a file as PNG\n",
        "plt.savefig(\"images/reviews_per_user.png\", format='png', dpi=500)"
      ]
    },
    {
      "cell_type": "code",
      "execution_count": null,
      "metadata": {
        "id": "JYDa2a_nnF74"
      },
      "outputs": [],
      "source": [
        "#we see most users rated under 10 products"
      ]
    },
    {
      "cell_type": "code",
      "execution_count": null,
      "metadata": {
        "id": "skE77gHFnIrq"
      },
      "outputs": [],
      "source": [
        "lower_rating = df.overall.min()\n",
        "upper_rating = df.overall.max()"
      ]
    },
    {
      "cell_type": "code",
      "execution_count": null,
      "metadata": {
        "id": "OcU19jhknMoZ"
      },
      "outputs": [],
      "source": [
        "#Confirming our review range is 1 to 5"
      ]
    },
    {
      "cell_type": "code",
      "execution_count": null,
      "metadata": {
        "colab": {
          "base_uri": "https://localhost:8080/"
        },
        "id": "S4J6b0JcnO5I",
        "outputId": "c7ba9005-a46a-4bb5-e119-50f90e5125e7"
      },
      "outputs": [
        {
          "output_type": "stream",
          "name": "stdout",
          "text": [
            "Review range: 1 to 5\n"
          ]
        }
      ],
      "source": [
        "print('Review range: {0} to {1}'.format(lower_rating, upper_rating))"
      ]
    },
    {
      "cell_type": "code",
      "execution_count": null,
      "metadata": {
        "id": "U8p2SO1-nQda"
      },
      "outputs": [],
      "source": [
        "#Creating dataframe with appropriate columns to run through surprise"
      ]
    },
    {
      "cell_type": "code",
      "execution_count": null,
      "metadata": {
        "colab": {
          "base_uri": "https://localhost:8080/",
          "height": 423
        },
        "id": "zX9LdS7KnSec",
        "outputId": "bc37ed03-2906-47de-c2cd-0a64329f4cfd"
      },
      "outputs": [
        {
          "output_type": "execute_result",
          "data": {
            "text/plain": [
              "            reviewerID        asin  overall\n",
              "0       A1YJEY40YUW4SE  7806397051        1\n",
              "1        A60XNB876KYML  7806397051        3\n",
              "2       A3G6XNM240RMWA  7806397051        4\n",
              "3       A1PQFP6SAJ6D80  7806397051        2\n",
              "4       A38FVHZTNQ271F  7806397051        3\n",
              "...                ...         ...      ...\n",
              "198497  A2BLFCOPSMBOZ9  B00LLPT4HI        5\n",
              "198498  A1UQBFCERIP7VJ  B00LLPT4HI        5\n",
              "198499  A35Q0RBM3YNQNF  B00LLPT4HI        5\n",
              "198500  A3LGT6UZL99IW1  B00LLPT4HI        5\n",
              "198501  A3UJRNI8UR4871  B00LLPT4HI        5\n",
              "\n",
              "[198502 rows x 3 columns]"
            ],
            "text/html": [
              "\n",
              "  <div id=\"df-421101f0-89eb-420f-8bd5-8a65df4b3965\" class=\"colab-df-container\">\n",
              "    <div>\n",
              "<style scoped>\n",
              "    .dataframe tbody tr th:only-of-type {\n",
              "        vertical-align: middle;\n",
              "    }\n",
              "\n",
              "    .dataframe tbody tr th {\n",
              "        vertical-align: top;\n",
              "    }\n",
              "\n",
              "    .dataframe thead th {\n",
              "        text-align: right;\n",
              "    }\n",
              "</style>\n",
              "<table border=\"1\" class=\"dataframe\">\n",
              "  <thead>\n",
              "    <tr style=\"text-align: right;\">\n",
              "      <th></th>\n",
              "      <th>reviewerID</th>\n",
              "      <th>asin</th>\n",
              "      <th>overall</th>\n",
              "    </tr>\n",
              "  </thead>\n",
              "  <tbody>\n",
              "    <tr>\n",
              "      <th>0</th>\n",
              "      <td>A1YJEY40YUW4SE</td>\n",
              "      <td>7806397051</td>\n",
              "      <td>1</td>\n",
              "    </tr>\n",
              "    <tr>\n",
              "      <th>1</th>\n",
              "      <td>A60XNB876KYML</td>\n",
              "      <td>7806397051</td>\n",
              "      <td>3</td>\n",
              "    </tr>\n",
              "    <tr>\n",
              "      <th>2</th>\n",
              "      <td>A3G6XNM240RMWA</td>\n",
              "      <td>7806397051</td>\n",
              "      <td>4</td>\n",
              "    </tr>\n",
              "    <tr>\n",
              "      <th>3</th>\n",
              "      <td>A1PQFP6SAJ6D80</td>\n",
              "      <td>7806397051</td>\n",
              "      <td>2</td>\n",
              "    </tr>\n",
              "    <tr>\n",
              "      <th>4</th>\n",
              "      <td>A38FVHZTNQ271F</td>\n",
              "      <td>7806397051</td>\n",
              "      <td>3</td>\n",
              "    </tr>\n",
              "    <tr>\n",
              "      <th>...</th>\n",
              "      <td>...</td>\n",
              "      <td>...</td>\n",
              "      <td>...</td>\n",
              "    </tr>\n",
              "    <tr>\n",
              "      <th>198497</th>\n",
              "      <td>A2BLFCOPSMBOZ9</td>\n",
              "      <td>B00LLPT4HI</td>\n",
              "      <td>5</td>\n",
              "    </tr>\n",
              "    <tr>\n",
              "      <th>198498</th>\n",
              "      <td>A1UQBFCERIP7VJ</td>\n",
              "      <td>B00LLPT4HI</td>\n",
              "      <td>5</td>\n",
              "    </tr>\n",
              "    <tr>\n",
              "      <th>198499</th>\n",
              "      <td>A35Q0RBM3YNQNF</td>\n",
              "      <td>B00LLPT4HI</td>\n",
              "      <td>5</td>\n",
              "    </tr>\n",
              "    <tr>\n",
              "      <th>198500</th>\n",
              "      <td>A3LGT6UZL99IW1</td>\n",
              "      <td>B00LLPT4HI</td>\n",
              "      <td>5</td>\n",
              "    </tr>\n",
              "    <tr>\n",
              "      <th>198501</th>\n",
              "      <td>A3UJRNI8UR4871</td>\n",
              "      <td>B00LLPT4HI</td>\n",
              "      <td>5</td>\n",
              "    </tr>\n",
              "  </tbody>\n",
              "</table>\n",
              "<p>198502 rows × 3 columns</p>\n",
              "</div>\n",
              "    <div class=\"colab-df-buttons\">\n",
              "\n",
              "  <div class=\"colab-df-container\">\n",
              "    <button class=\"colab-df-convert\" onclick=\"convertToInteractive('df-421101f0-89eb-420f-8bd5-8a65df4b3965')\"\n",
              "            title=\"Convert this dataframe to an interactive table.\"\n",
              "            style=\"display:none;\">\n",
              "\n",
              "  <svg xmlns=\"http://www.w3.org/2000/svg\" height=\"24px\" viewBox=\"0 -960 960 960\">\n",
              "    <path d=\"M120-120v-720h720v720H120Zm60-500h600v-160H180v160Zm220 220h160v-160H400v160Zm0 220h160v-160H400v160ZM180-400h160v-160H180v160Zm440 0h160v-160H620v160ZM180-180h160v-160H180v160Zm440 0h160v-160H620v160Z\"/>\n",
              "  </svg>\n",
              "    </button>\n",
              "\n",
              "  <style>\n",
              "    .colab-df-container {\n",
              "      display:flex;\n",
              "      gap: 12px;\n",
              "    }\n",
              "\n",
              "    .colab-df-convert {\n",
              "      background-color: #E8F0FE;\n",
              "      border: none;\n",
              "      border-radius: 50%;\n",
              "      cursor: pointer;\n",
              "      display: none;\n",
              "      fill: #1967D2;\n",
              "      height: 32px;\n",
              "      padding: 0 0 0 0;\n",
              "      width: 32px;\n",
              "    }\n",
              "\n",
              "    .colab-df-convert:hover {\n",
              "      background-color: #E2EBFA;\n",
              "      box-shadow: 0px 1px 2px rgba(60, 64, 67, 0.3), 0px 1px 3px 1px rgba(60, 64, 67, 0.15);\n",
              "      fill: #174EA6;\n",
              "    }\n",
              "\n",
              "    .colab-df-buttons div {\n",
              "      margin-bottom: 4px;\n",
              "    }\n",
              "\n",
              "    [theme=dark] .colab-df-convert {\n",
              "      background-color: #3B4455;\n",
              "      fill: #D2E3FC;\n",
              "    }\n",
              "\n",
              "    [theme=dark] .colab-df-convert:hover {\n",
              "      background-color: #434B5C;\n",
              "      box-shadow: 0px 1px 3px 1px rgba(0, 0, 0, 0.15);\n",
              "      filter: drop-shadow(0px 1px 2px rgba(0, 0, 0, 0.3));\n",
              "      fill: #FFFFFF;\n",
              "    }\n",
              "  </style>\n",
              "\n",
              "    <script>\n",
              "      const buttonEl =\n",
              "        document.querySelector('#df-421101f0-89eb-420f-8bd5-8a65df4b3965 button.colab-df-convert');\n",
              "      buttonEl.style.display =\n",
              "        google.colab.kernel.accessAllowed ? 'block' : 'none';\n",
              "\n",
              "      async function convertToInteractive(key) {\n",
              "        const element = document.querySelector('#df-421101f0-89eb-420f-8bd5-8a65df4b3965');\n",
              "        const dataTable =\n",
              "          await google.colab.kernel.invokeFunction('convertToInteractive',\n",
              "                                                    [key], {});\n",
              "        if (!dataTable) return;\n",
              "\n",
              "        const docLinkHtml = 'Like what you see? Visit the ' +\n",
              "          '<a target=\"_blank\" href=https://colab.research.google.com/notebooks/data_table.ipynb>data table notebook</a>'\n",
              "          + ' to learn more about interactive tables.';\n",
              "        element.innerHTML = '';\n",
              "        dataTable['output_type'] = 'display_data';\n",
              "        await google.colab.output.renderOutput(dataTable, element);\n",
              "        const docLink = document.createElement('div');\n",
              "        docLink.innerHTML = docLinkHtml;\n",
              "        element.appendChild(docLink);\n",
              "      }\n",
              "    </script>\n",
              "  </div>\n",
              "\n",
              "\n",
              "<div id=\"df-dfe2ef19-a210-427b-bfe4-c3182fcf207d\">\n",
              "  <button class=\"colab-df-quickchart\" onclick=\"quickchart('df-dfe2ef19-a210-427b-bfe4-c3182fcf207d')\"\n",
              "            title=\"Suggest charts\"\n",
              "            style=\"display:none;\">\n",
              "\n",
              "<svg xmlns=\"http://www.w3.org/2000/svg\" height=\"24px\"viewBox=\"0 0 24 24\"\n",
              "     width=\"24px\">\n",
              "    <g>\n",
              "        <path d=\"M19 3H5c-1.1 0-2 .9-2 2v14c0 1.1.9 2 2 2h14c1.1 0 2-.9 2-2V5c0-1.1-.9-2-2-2zM9 17H7v-7h2v7zm4 0h-2V7h2v10zm4 0h-2v-4h2v4z\"/>\n",
              "    </g>\n",
              "</svg>\n",
              "  </button>\n",
              "\n",
              "<style>\n",
              "  .colab-df-quickchart {\n",
              "      --bg-color: #E8F0FE;\n",
              "      --fill-color: #1967D2;\n",
              "      --hover-bg-color: #E2EBFA;\n",
              "      --hover-fill-color: #174EA6;\n",
              "      --disabled-fill-color: #AAA;\n",
              "      --disabled-bg-color: #DDD;\n",
              "  }\n",
              "\n",
              "  [theme=dark] .colab-df-quickchart {\n",
              "      --bg-color: #3B4455;\n",
              "      --fill-color: #D2E3FC;\n",
              "      --hover-bg-color: #434B5C;\n",
              "      --hover-fill-color: #FFFFFF;\n",
              "      --disabled-bg-color: #3B4455;\n",
              "      --disabled-fill-color: #666;\n",
              "  }\n",
              "\n",
              "  .colab-df-quickchart {\n",
              "    background-color: var(--bg-color);\n",
              "    border: none;\n",
              "    border-radius: 50%;\n",
              "    cursor: pointer;\n",
              "    display: none;\n",
              "    fill: var(--fill-color);\n",
              "    height: 32px;\n",
              "    padding: 0;\n",
              "    width: 32px;\n",
              "  }\n",
              "\n",
              "  .colab-df-quickchart:hover {\n",
              "    background-color: var(--hover-bg-color);\n",
              "    box-shadow: 0 1px 2px rgba(60, 64, 67, 0.3), 0 1px 3px 1px rgba(60, 64, 67, 0.15);\n",
              "    fill: var(--button-hover-fill-color);\n",
              "  }\n",
              "\n",
              "  .colab-df-quickchart-complete:disabled,\n",
              "  .colab-df-quickchart-complete:disabled:hover {\n",
              "    background-color: var(--disabled-bg-color);\n",
              "    fill: var(--disabled-fill-color);\n",
              "    box-shadow: none;\n",
              "  }\n",
              "\n",
              "  .colab-df-spinner {\n",
              "    border: 2px solid var(--fill-color);\n",
              "    border-color: transparent;\n",
              "    border-bottom-color: var(--fill-color);\n",
              "    animation:\n",
              "      spin 1s steps(1) infinite;\n",
              "  }\n",
              "\n",
              "  @keyframes spin {\n",
              "    0% {\n",
              "      border-color: transparent;\n",
              "      border-bottom-color: var(--fill-color);\n",
              "      border-left-color: var(--fill-color);\n",
              "    }\n",
              "    20% {\n",
              "      border-color: transparent;\n",
              "      border-left-color: var(--fill-color);\n",
              "      border-top-color: var(--fill-color);\n",
              "    }\n",
              "    30% {\n",
              "      border-color: transparent;\n",
              "      border-left-color: var(--fill-color);\n",
              "      border-top-color: var(--fill-color);\n",
              "      border-right-color: var(--fill-color);\n",
              "    }\n",
              "    40% {\n",
              "      border-color: transparent;\n",
              "      border-right-color: var(--fill-color);\n",
              "      border-top-color: var(--fill-color);\n",
              "    }\n",
              "    60% {\n",
              "      border-color: transparent;\n",
              "      border-right-color: var(--fill-color);\n",
              "    }\n",
              "    80% {\n",
              "      border-color: transparent;\n",
              "      border-right-color: var(--fill-color);\n",
              "      border-bottom-color: var(--fill-color);\n",
              "    }\n",
              "    90% {\n",
              "      border-color: transparent;\n",
              "      border-bottom-color: var(--fill-color);\n",
              "    }\n",
              "  }\n",
              "</style>\n",
              "\n",
              "  <script>\n",
              "    async function quickchart(key) {\n",
              "      const quickchartButtonEl =\n",
              "        document.querySelector('#' + key + ' button');\n",
              "      quickchartButtonEl.disabled = true;  // To prevent multiple clicks.\n",
              "      quickchartButtonEl.classList.add('colab-df-spinner');\n",
              "      try {\n",
              "        const charts = await google.colab.kernel.invokeFunction(\n",
              "            'suggestCharts', [key], {});\n",
              "      } catch (error) {\n",
              "        console.error('Error during call to suggestCharts:', error);\n",
              "      }\n",
              "      quickchartButtonEl.classList.remove('colab-df-spinner');\n",
              "      quickchartButtonEl.classList.add('colab-df-quickchart-complete');\n",
              "    }\n",
              "    (() => {\n",
              "      let quickchartButtonEl =\n",
              "        document.querySelector('#df-dfe2ef19-a210-427b-bfe4-c3182fcf207d button');\n",
              "      quickchartButtonEl.style.display =\n",
              "        google.colab.kernel.accessAllowed ? 'block' : 'none';\n",
              "    })();\n",
              "  </script>\n",
              "</div>\n",
              "\n",
              "  <div id=\"id_8fa3ab78-c8c1-447d-83c0-a8d94bb25387\">\n",
              "    <style>\n",
              "      .colab-df-generate {\n",
              "        background-color: #E8F0FE;\n",
              "        border: none;\n",
              "        border-radius: 50%;\n",
              "        cursor: pointer;\n",
              "        display: none;\n",
              "        fill: #1967D2;\n",
              "        height: 32px;\n",
              "        padding: 0 0 0 0;\n",
              "        width: 32px;\n",
              "      }\n",
              "\n",
              "      .colab-df-generate:hover {\n",
              "        background-color: #E2EBFA;\n",
              "        box-shadow: 0px 1px 2px rgba(60, 64, 67, 0.3), 0px 1px 3px 1px rgba(60, 64, 67, 0.15);\n",
              "        fill: #174EA6;\n",
              "      }\n",
              "\n",
              "      [theme=dark] .colab-df-generate {\n",
              "        background-color: #3B4455;\n",
              "        fill: #D2E3FC;\n",
              "      }\n",
              "\n",
              "      [theme=dark] .colab-df-generate:hover {\n",
              "        background-color: #434B5C;\n",
              "        box-shadow: 0px 1px 3px 1px rgba(0, 0, 0, 0.15);\n",
              "        filter: drop-shadow(0px 1px 2px rgba(0, 0, 0, 0.3));\n",
              "        fill: #FFFFFF;\n",
              "      }\n",
              "    </style>\n",
              "    <button class=\"colab-df-generate\" onclick=\"generateWithVariable('surprise_df')\"\n",
              "            title=\"Generate code using this dataframe.\"\n",
              "            style=\"display:none;\">\n",
              "\n",
              "  <svg xmlns=\"http://www.w3.org/2000/svg\" height=\"24px\"viewBox=\"0 0 24 24\"\n",
              "       width=\"24px\">\n",
              "    <path d=\"M7,19H8.4L18.45,9,17,7.55,7,17.6ZM5,21V16.75L18.45,3.32a2,2,0,0,1,2.83,0l1.4,1.43a1.91,1.91,0,0,1,.58,1.4,1.91,1.91,0,0,1-.58,1.4L9.25,21ZM18.45,9,17,7.55Zm-12,3A5.31,5.31,0,0,0,4.9,8.1,5.31,5.31,0,0,0,1,6.5,5.31,5.31,0,0,0,4.9,4.9,5.31,5.31,0,0,0,6.5,1,5.31,5.31,0,0,0,8.1,4.9,5.31,5.31,0,0,0,12,6.5,5.46,5.46,0,0,0,6.5,12Z\"/>\n",
              "  </svg>\n",
              "    </button>\n",
              "    <script>\n",
              "      (() => {\n",
              "      const buttonEl =\n",
              "        document.querySelector('#id_8fa3ab78-c8c1-447d-83c0-a8d94bb25387 button.colab-df-generate');\n",
              "      buttonEl.style.display =\n",
              "        google.colab.kernel.accessAllowed ? 'block' : 'none';\n",
              "\n",
              "      buttonEl.onclick = () => {\n",
              "        google.colab.notebook.generateWithVariable('surprise_df');\n",
              "      }\n",
              "      })();\n",
              "    </script>\n",
              "  </div>\n",
              "\n",
              "    </div>\n",
              "  </div>\n"
            ],
            "application/vnd.google.colaboratory.intrinsic+json": {
              "type": "dataframe",
              "variable_name": "surprise_df"
            }
          },
          "metadata": {},
          "execution_count": 18
        }
      ],
      "source": [
        "surprise_df = df[['reviewerID', 'asin', 'overall']]\n",
        "surprise_df"
      ]
    },
    {
      "cell_type": "code",
      "execution_count": null,
      "metadata": {
        "id": "ZA36Qt9FnULP"
      },
      "outputs": [],
      "source": [
        "#Checking average rating user to see if there are users who rate everything 1 or 5"
      ]
    },
    {
      "cell_type": "code",
      "execution_count": null,
      "metadata": {
        "colab": {
          "base_uri": "https://localhost:8080/",
          "height": 489
        },
        "id": "G89tyZaVnZV5",
        "outputId": "53ca1efc-7c7e-433c-f0c3-7a31c6181eab"
      },
      "outputs": [
        {
          "output_type": "execute_result",
          "data": {
            "text/plain": [
              "reviewerID\n",
              "A1W522Z24EPBJB    1.0\n",
              "A2DPSPXFJ507C0    1.0\n",
              "A1GQLVT0SWAWU     1.0\n",
              "A1KLA02LZXAT46    1.0\n",
              "A2MHHSACEJANSX    1.0\n",
              "                 ... \n",
              "A15QGN6UXJVW9G    5.0\n",
              "ANOJX4RAUJ9HL     5.0\n",
              "A2RJT3IE2T6KXJ    5.0\n",
              "A1ORLBQV893JF0    5.0\n",
              "A4UHZXSLMBWT2     5.0\n",
              "Name: overall, Length: 22363, dtype: float64"
            ],
            "text/html": [
              "<div>\n",
              "<style scoped>\n",
              "    .dataframe tbody tr th:only-of-type {\n",
              "        vertical-align: middle;\n",
              "    }\n",
              "\n",
              "    .dataframe tbody tr th {\n",
              "        vertical-align: top;\n",
              "    }\n",
              "\n",
              "    .dataframe thead th {\n",
              "        text-align: right;\n",
              "    }\n",
              "</style>\n",
              "<table border=\"1\" class=\"dataframe\">\n",
              "  <thead>\n",
              "    <tr style=\"text-align: right;\">\n",
              "      <th></th>\n",
              "      <th>overall</th>\n",
              "    </tr>\n",
              "    <tr>\n",
              "      <th>reviewerID</th>\n",
              "      <th></th>\n",
              "    </tr>\n",
              "  </thead>\n",
              "  <tbody>\n",
              "    <tr>\n",
              "      <th>A1W522Z24EPBJB</th>\n",
              "      <td>1.0</td>\n",
              "    </tr>\n",
              "    <tr>\n",
              "      <th>A2DPSPXFJ507C0</th>\n",
              "      <td>1.0</td>\n",
              "    </tr>\n",
              "    <tr>\n",
              "      <th>A1GQLVT0SWAWU</th>\n",
              "      <td>1.0</td>\n",
              "    </tr>\n",
              "    <tr>\n",
              "      <th>A1KLA02LZXAT46</th>\n",
              "      <td>1.0</td>\n",
              "    </tr>\n",
              "    <tr>\n",
              "      <th>A2MHHSACEJANSX</th>\n",
              "      <td>1.0</td>\n",
              "    </tr>\n",
              "    <tr>\n",
              "      <th>...</th>\n",
              "      <td>...</td>\n",
              "    </tr>\n",
              "    <tr>\n",
              "      <th>A15QGN6UXJVW9G</th>\n",
              "      <td>5.0</td>\n",
              "    </tr>\n",
              "    <tr>\n",
              "      <th>ANOJX4RAUJ9HL</th>\n",
              "      <td>5.0</td>\n",
              "    </tr>\n",
              "    <tr>\n",
              "      <th>A2RJT3IE2T6KXJ</th>\n",
              "      <td>5.0</td>\n",
              "    </tr>\n",
              "    <tr>\n",
              "      <th>A1ORLBQV893JF0</th>\n",
              "      <td>5.0</td>\n",
              "    </tr>\n",
              "    <tr>\n",
              "      <th>A4UHZXSLMBWT2</th>\n",
              "      <td>5.0</td>\n",
              "    </tr>\n",
              "  </tbody>\n",
              "</table>\n",
              "<p>22363 rows × 1 columns</p>\n",
              "</div><br><label><b>dtype:</b> float64</label>"
            ]
          },
          "metadata": {},
          "execution_count": 19
        }
      ],
      "source": [
        "avg_rating_user = df.groupby(\"reviewerID\")[\"overall\"].mean().sort_values() # Removing \"overall\" as it is not needed for a series\n",
        "avg_rating_user"
      ]
    },
    {
      "cell_type": "code",
      "execution_count": null,
      "metadata": {
        "colab": {
          "base_uri": "https://localhost:8080/",
          "height": 397
        },
        "id": "AYmX8jLXnblX",
        "outputId": "55e60b87-0fbd-4780-eb0d-5c6485a17d86"
      },
      "outputs": [
        {
          "output_type": "execute_result",
          "data": {
            "text/plain": [
              "reviewerID\n",
              "A1W522Z24EPBJB    1.0\n",
              "A2DPSPXFJ507C0    1.0\n",
              "A1GQLVT0SWAWU     1.0\n",
              "A1KLA02LZXAT46    1.0\n",
              "A2MHHSACEJANSX    1.0\n",
              "A2RJTIE73NPN3C    1.0\n",
              "ASWIC85F71H4J     1.0\n",
              "A2TBE0N8JN6H4K    1.0\n",
              "A1GPPMHYM6SMEW    1.0\n",
              "Name: overall, dtype: float64"
            ],
            "text/html": [
              "<div>\n",
              "<style scoped>\n",
              "    .dataframe tbody tr th:only-of-type {\n",
              "        vertical-align: middle;\n",
              "    }\n",
              "\n",
              "    .dataframe tbody tr th {\n",
              "        vertical-align: top;\n",
              "    }\n",
              "\n",
              "    .dataframe thead th {\n",
              "        text-align: right;\n",
              "    }\n",
              "</style>\n",
              "<table border=\"1\" class=\"dataframe\">\n",
              "  <thead>\n",
              "    <tr style=\"text-align: right;\">\n",
              "      <th></th>\n",
              "      <th>overall</th>\n",
              "    </tr>\n",
              "    <tr>\n",
              "      <th>reviewerID</th>\n",
              "      <th></th>\n",
              "    </tr>\n",
              "  </thead>\n",
              "  <tbody>\n",
              "    <tr>\n",
              "      <th>A1W522Z24EPBJB</th>\n",
              "      <td>1.0</td>\n",
              "    </tr>\n",
              "    <tr>\n",
              "      <th>A2DPSPXFJ507C0</th>\n",
              "      <td>1.0</td>\n",
              "    </tr>\n",
              "    <tr>\n",
              "      <th>A1GQLVT0SWAWU</th>\n",
              "      <td>1.0</td>\n",
              "    </tr>\n",
              "    <tr>\n",
              "      <th>A1KLA02LZXAT46</th>\n",
              "      <td>1.0</td>\n",
              "    </tr>\n",
              "    <tr>\n",
              "      <th>A2MHHSACEJANSX</th>\n",
              "      <td>1.0</td>\n",
              "    </tr>\n",
              "    <tr>\n",
              "      <th>A2RJTIE73NPN3C</th>\n",
              "      <td>1.0</td>\n",
              "    </tr>\n",
              "    <tr>\n",
              "      <th>ASWIC85F71H4J</th>\n",
              "      <td>1.0</td>\n",
              "    </tr>\n",
              "    <tr>\n",
              "      <th>A2TBE0N8JN6H4K</th>\n",
              "      <td>1.0</td>\n",
              "    </tr>\n",
              "    <tr>\n",
              "      <th>A1GPPMHYM6SMEW</th>\n",
              "      <td>1.0</td>\n",
              "    </tr>\n",
              "  </tbody>\n",
              "</table>\n",
              "</div><br><label><b>dtype:</b> float64</label>"
            ]
          },
          "metadata": {},
          "execution_count": 20
        }
      ],
      "source": [
        "low_rating_user = avg_rating_user[avg_rating_user == 1.0]\n",
        "low_rating_user"
      ]
    },
    {
      "cell_type": "code",
      "execution_count": null,
      "metadata": {
        "id": "AQOLvDiZno_h"
      },
      "outputs": [],
      "source": [
        "#only 9 users have rated every product a 1"
      ]
    },
    {
      "cell_type": "code",
      "execution_count": null,
      "metadata": {
        "colab": {
          "base_uri": "https://localhost:8080/",
          "height": 489
        },
        "id": "sVpJJQDVn0Sm",
        "outputId": "02fa5622-7976-449f-df2d-97c09f82faff"
      },
      "outputs": [
        {
          "output_type": "execute_result",
          "data": {
            "text/plain": [
              "reviewerID\n",
              "A2FINIRQNXOTI     5.0\n",
              "ATWS89FH6Y6S4     5.0\n",
              "A16Q479PYT0G6N    5.0\n",
              "A3OKW5VRXZG3OQ    5.0\n",
              "A3O9Q3154FPZLL    5.0\n",
              "                 ... \n",
              "A15QGN6UXJVW9G    5.0\n",
              "ANOJX4RAUJ9HL     5.0\n",
              "A2RJT3IE2T6KXJ    5.0\n",
              "A1ORLBQV893JF0    5.0\n",
              "A4UHZXSLMBWT2     5.0\n",
              "Name: overall, Length: 2822, dtype: float64"
            ],
            "text/html": [
              "<div>\n",
              "<style scoped>\n",
              "    .dataframe tbody tr th:only-of-type {\n",
              "        vertical-align: middle;\n",
              "    }\n",
              "\n",
              "    .dataframe tbody tr th {\n",
              "        vertical-align: top;\n",
              "    }\n",
              "\n",
              "    .dataframe thead th {\n",
              "        text-align: right;\n",
              "    }\n",
              "</style>\n",
              "<table border=\"1\" class=\"dataframe\">\n",
              "  <thead>\n",
              "    <tr style=\"text-align: right;\">\n",
              "      <th></th>\n",
              "      <th>overall</th>\n",
              "    </tr>\n",
              "    <tr>\n",
              "      <th>reviewerID</th>\n",
              "      <th></th>\n",
              "    </tr>\n",
              "  </thead>\n",
              "  <tbody>\n",
              "    <tr>\n",
              "      <th>A2FINIRQNXOTI</th>\n",
              "      <td>5.0</td>\n",
              "    </tr>\n",
              "    <tr>\n",
              "      <th>ATWS89FH6Y6S4</th>\n",
              "      <td>5.0</td>\n",
              "    </tr>\n",
              "    <tr>\n",
              "      <th>A16Q479PYT0G6N</th>\n",
              "      <td>5.0</td>\n",
              "    </tr>\n",
              "    <tr>\n",
              "      <th>A3OKW5VRXZG3OQ</th>\n",
              "      <td>5.0</td>\n",
              "    </tr>\n",
              "    <tr>\n",
              "      <th>A3O9Q3154FPZLL</th>\n",
              "      <td>5.0</td>\n",
              "    </tr>\n",
              "    <tr>\n",
              "      <th>...</th>\n",
              "      <td>...</td>\n",
              "    </tr>\n",
              "    <tr>\n",
              "      <th>A15QGN6UXJVW9G</th>\n",
              "      <td>5.0</td>\n",
              "    </tr>\n",
              "    <tr>\n",
              "      <th>ANOJX4RAUJ9HL</th>\n",
              "      <td>5.0</td>\n",
              "    </tr>\n",
              "    <tr>\n",
              "      <th>A2RJT3IE2T6KXJ</th>\n",
              "      <td>5.0</td>\n",
              "    </tr>\n",
              "    <tr>\n",
              "      <th>A1ORLBQV893JF0</th>\n",
              "      <td>5.0</td>\n",
              "    </tr>\n",
              "    <tr>\n",
              "      <th>A4UHZXSLMBWT2</th>\n",
              "      <td>5.0</td>\n",
              "    </tr>\n",
              "  </tbody>\n",
              "</table>\n",
              "<p>2822 rows × 1 columns</p>\n",
              "</div><br><label><b>dtype:</b> float64</label>"
            ]
          },
          "metadata": {},
          "execution_count": 21
        }
      ],
      "source": [
        "high_rating_user = avg_rating_user[avg_rating_user == 5.0] # Removing [\"overall\"] as it is not needed for a series that is already based on the average \"overall\" rating\n",
        "high_rating_user"
      ]
    },
    {
      "cell_type": "code",
      "execution_count": null,
      "metadata": {
        "id": "0T8tKSUQn1_0"
      },
      "outputs": [],
      "source": [
        "#2822 users have rated every product a 5"
      ]
    },
    {
      "cell_type": "code",
      "execution_count": null,
      "metadata": {
        "id": "4cYjWevhn_HB"
      },
      "outputs": [],
      "source": [
        "#we decide to keep these users in our final dataset but will not use them to test our model for recommendations"
      ]
    },
    {
      "cell_type": "markdown",
      "metadata": {
        "id": "u_-G4OdzoGOg"
      },
      "source": [
        "### Exploring Meta Data"
      ]
    },
    {
      "cell_type": "code",
      "execution_count": null,
      "metadata": {
        "id": "w8ZYJpEWoBXR"
      },
      "outputs": [],
      "source": [
        "#Import our meta data\n",
        "import gzip\n",
        "Svd=0.17823\n",
        "def parse(path):\n",
        "  g = gzip.open(path, 'rb')\n",
        "  for l in g:\n",
        "    yield eval(l)\n",
        "\n",
        "def getDF(path):\n",
        "  i = 0\n",
        "  df = {}\n",
        "  for d in parse(path):\n",
        "    df[i] = d\n",
        "    i += 1\n",
        "  return pd.DataFrame.from_dict(df, orient='index')"
      ]
    },
    {
      "cell_type": "code",
      "execution_count": null,
      "metadata": {
        "colab": {
          "base_uri": "https://localhost:8080/",
          "height": 909
        },
        "id": "tWVmewgjoI1i",
        "outputId": "ab7972d0-d8f9-4636-874b-1c87f3eda65f"
      },
      "outputs": [
        {
          "output_type": "execute_result",
          "data": {
            "text/plain": [
              "              asin                                        description  \\\n",
              "0       0205616461  As we age, our once youthful, healthy skin suc...   \n",
              "1       0558925278  Mineral Powder Brush--Apply powder or mineral ...   \n",
              "2       0733001998  From the Greek island of Chios, this Mastiha b...   \n",
              "3       0737104473  Limited edition Hello Kitty Lipstick featuring...   \n",
              "4       0762451459  The mermaid is an elusive (okay, mythical) cre...   \n",
              "...            ...                                                ...   \n",
              "259199  B00LP2YB8E  Color: White\\nFullness72 inches\\nCenter Gather...   \n",
              "259200  B00LOS7MEE  The secret to long lasting colors, healthy nai...   \n",
              "259201  B00LPVG6V0  ResQ Organics Face & Body Wash - With Aloe Ver...   \n",
              "259202  B00LTDUHJQ  Color: White\\n2 Tier \\nFullness 72 inches\\nSew...   \n",
              "259203  B00LU0LTOU  The bags produced by us are 100% ECO friendly ...   \n",
              "\n",
              "                                                    title  \\\n",
              "0       Bio-Active Anti-Aging Serum (Firming Ultra-Hyd...   \n",
              "1       Eco Friendly Ecotools Quality Natural Bamboo C...   \n",
              "2                                     Mastiha Body Lotion   \n",
              "3       Hello Kitty Lustre Lipstick (See sellers comme...   \n",
              "4             Stephanie Johnson Mermaid Round Snap Mirror   \n",
              "...                                                   ...   \n",
              "259199  2t 2t Edge Crystal Rhinestones Bridal Wedding ...   \n",
              "259200  French Manicure Gel Nail Polish Set - &quot;Se...   \n",
              "259201  ResQ Organics Face &amp; Body Wash - Aloe Vera...   \n",
              "259202  2 Tier Tulle Elbow Wedding Veil with Ribbon Ed...   \n",
              "259203  *ECOCRAFTWORLD* GENUINE BUFFALO LEATHER TRAVEL...   \n",
              "\n",
              "                                                    imUrl  \\\n",
              "0       http://ecx.images-amazon.com/images/I/41DecrGO...   \n",
              "1       http://ecx.images-amazon.com/images/I/51L%2BzY...   \n",
              "2       http://ecx.images-amazon.com/images/I/311WK5y1...   \n",
              "3       http://ecx.images-amazon.com/images/I/31u6Hrzk...   \n",
              "4       http://ecx.images-amazon.com/images/I/41y2%2BF...   \n",
              "...                                                   ...   \n",
              "259199  http://ecx.images-amazon.com/images/I/41E630m-...   \n",
              "259200  http://ecx.images-amazon.com/images/I/41skHL1O...   \n",
              "259201  http://ecx.images-amazon.com/images/I/31C1w4Ku...   \n",
              "259202  http://ecx.images-amazon.com/images/I/51%2B%2B...   \n",
              "259203  http://ecx.images-amazon.com/images/I/41kXSEch...   \n",
              "\n",
              "                                 salesRank  \\\n",
              "0       {'Health & Personal Care': 461765}   \n",
              "1                       {'Beauty': 402875}   \n",
              "2                       {'Beauty': 540255}   \n",
              "3                       {'Beauty': 931125}   \n",
              "4                                      NaN   \n",
              "...                                    ...   \n",
              "259199                                 NaN   \n",
              "259200                  {'Beauty': 108820}   \n",
              "259201                                 NaN   \n",
              "259202                                 NaN   \n",
              "259203                                 NaN   \n",
              "\n",
              "                                               categories   price  \\\n",
              "0       [[Beauty, Skin Care, Face, Creams & Moisturize...     NaN   \n",
              "1       [[Beauty, Tools & Accessories, Makeup Brushes ...     NaN   \n",
              "2       [[Beauty, Skin Care, Body, Moisturizers, Lotio...     NaN   \n",
              "3                      [[Beauty, Makeup, Lips, Lipstick]]     NaN   \n",
              "4       [[Beauty, Tools & Accessories, Mirrors, Makeup...   19.98   \n",
              "...                                                   ...     ...   \n",
              "259199  [[Beauty, Hair Care, Styling Tools, Styling Ac...     NaN   \n",
              "259200             [[Beauty, Makeup, Nails, Nail Polish]]     NaN   \n",
              "259201  [[Beauty, Skin Care, Face, Creams & Moisturize...     NaN   \n",
              "259202  [[Beauty, Hair Care, Styling Tools, Styling Ac...     NaN   \n",
              "259203  [[Beauty, Tools & Accessories, Bags & Cases, T...  130.00   \n",
              "\n",
              "                                                  related brand  \n",
              "0                                                     NaN   NaN  \n",
              "1                                                     NaN   NaN  \n",
              "2                                                     NaN   NaN  \n",
              "3                                                     NaN   NaN  \n",
              "4                                                     NaN   NaN  \n",
              "...                                                   ...   ...  \n",
              "259199                                                NaN   NaN  \n",
              "259200  {'also_viewed': ['B0057JCYYE', 'B00LMXHR1Y', '...   NaN  \n",
              "259201                                                NaN   NaN  \n",
              "259202                                                NaN   NaN  \n",
              "259203  {'also_viewed': ['B00JWX6OOW', 'B00L4HJCZC', '...   NaN  \n",
              "\n",
              "[259204 rows x 9 columns]"
            ],
            "text/html": [
              "\n",
              "  <div id=\"df-30ac90dd-4464-48b4-bf6b-7816014d1f13\" class=\"colab-df-container\">\n",
              "    <div>\n",
              "<style scoped>\n",
              "    .dataframe tbody tr th:only-of-type {\n",
              "        vertical-align: middle;\n",
              "    }\n",
              "\n",
              "    .dataframe tbody tr th {\n",
              "        vertical-align: top;\n",
              "    }\n",
              "\n",
              "    .dataframe thead th {\n",
              "        text-align: right;\n",
              "    }\n",
              "</style>\n",
              "<table border=\"1\" class=\"dataframe\">\n",
              "  <thead>\n",
              "    <tr style=\"text-align: right;\">\n",
              "      <th></th>\n",
              "      <th>asin</th>\n",
              "      <th>description</th>\n",
              "      <th>title</th>\n",
              "      <th>imUrl</th>\n",
              "      <th>salesRank</th>\n",
              "      <th>categories</th>\n",
              "      <th>price</th>\n",
              "      <th>related</th>\n",
              "      <th>brand</th>\n",
              "    </tr>\n",
              "  </thead>\n",
              "  <tbody>\n",
              "    <tr>\n",
              "      <th>0</th>\n",
              "      <td>0205616461</td>\n",
              "      <td>As we age, our once youthful, healthy skin suc...</td>\n",
              "      <td>Bio-Active Anti-Aging Serum (Firming Ultra-Hyd...</td>\n",
              "      <td>http://ecx.images-amazon.com/images/I/41DecrGO...</td>\n",
              "      <td>{'Health &amp; Personal Care': 461765}</td>\n",
              "      <td>[[Beauty, Skin Care, Face, Creams &amp; Moisturize...</td>\n",
              "      <td>NaN</td>\n",
              "      <td>NaN</td>\n",
              "      <td>NaN</td>\n",
              "    </tr>\n",
              "    <tr>\n",
              "      <th>1</th>\n",
              "      <td>0558925278</td>\n",
              "      <td>Mineral Powder Brush--Apply powder or mineral ...</td>\n",
              "      <td>Eco Friendly Ecotools Quality Natural Bamboo C...</td>\n",
              "      <td>http://ecx.images-amazon.com/images/I/51L%2BzY...</td>\n",
              "      <td>{'Beauty': 402875}</td>\n",
              "      <td>[[Beauty, Tools &amp; Accessories, Makeup Brushes ...</td>\n",
              "      <td>NaN</td>\n",
              "      <td>NaN</td>\n",
              "      <td>NaN</td>\n",
              "    </tr>\n",
              "    <tr>\n",
              "      <th>2</th>\n",
              "      <td>0733001998</td>\n",
              "      <td>From the Greek island of Chios, this Mastiha b...</td>\n",
              "      <td>Mastiha Body Lotion</td>\n",
              "      <td>http://ecx.images-amazon.com/images/I/311WK5y1...</td>\n",
              "      <td>{'Beauty': 540255}</td>\n",
              "      <td>[[Beauty, Skin Care, Body, Moisturizers, Lotio...</td>\n",
              "      <td>NaN</td>\n",
              "      <td>NaN</td>\n",
              "      <td>NaN</td>\n",
              "    </tr>\n",
              "    <tr>\n",
              "      <th>3</th>\n",
              "      <td>0737104473</td>\n",
              "      <td>Limited edition Hello Kitty Lipstick featuring...</td>\n",
              "      <td>Hello Kitty Lustre Lipstick (See sellers comme...</td>\n",
              "      <td>http://ecx.images-amazon.com/images/I/31u6Hrzk...</td>\n",
              "      <td>{'Beauty': 931125}</td>\n",
              "      <td>[[Beauty, Makeup, Lips, Lipstick]]</td>\n",
              "      <td>NaN</td>\n",
              "      <td>NaN</td>\n",
              "      <td>NaN</td>\n",
              "    </tr>\n",
              "    <tr>\n",
              "      <th>4</th>\n",
              "      <td>0762451459</td>\n",
              "      <td>The mermaid is an elusive (okay, mythical) cre...</td>\n",
              "      <td>Stephanie Johnson Mermaid Round Snap Mirror</td>\n",
              "      <td>http://ecx.images-amazon.com/images/I/41y2%2BF...</td>\n",
              "      <td>NaN</td>\n",
              "      <td>[[Beauty, Tools &amp; Accessories, Mirrors, Makeup...</td>\n",
              "      <td>19.98</td>\n",
              "      <td>NaN</td>\n",
              "      <td>NaN</td>\n",
              "    </tr>\n",
              "    <tr>\n",
              "      <th>...</th>\n",
              "      <td>...</td>\n",
              "      <td>...</td>\n",
              "      <td>...</td>\n",
              "      <td>...</td>\n",
              "      <td>...</td>\n",
              "      <td>...</td>\n",
              "      <td>...</td>\n",
              "      <td>...</td>\n",
              "      <td>...</td>\n",
              "    </tr>\n",
              "    <tr>\n",
              "      <th>259199</th>\n",
              "      <td>B00LP2YB8E</td>\n",
              "      <td>Color: White\\nFullness72 inches\\nCenter Gather...</td>\n",
              "      <td>2t 2t Edge Crystal Rhinestones Bridal Wedding ...</td>\n",
              "      <td>http://ecx.images-amazon.com/images/I/41E630m-...</td>\n",
              "      <td>NaN</td>\n",
              "      <td>[[Beauty, Hair Care, Styling Tools, Styling Ac...</td>\n",
              "      <td>NaN</td>\n",
              "      <td>NaN</td>\n",
              "      <td>NaN</td>\n",
              "    </tr>\n",
              "    <tr>\n",
              "      <th>259200</th>\n",
              "      <td>B00LOS7MEE</td>\n",
              "      <td>The secret to long lasting colors, healthy nai...</td>\n",
              "      <td>French Manicure Gel Nail Polish Set - &amp;quot;Se...</td>\n",
              "      <td>http://ecx.images-amazon.com/images/I/41skHL1O...</td>\n",
              "      <td>{'Beauty': 108820}</td>\n",
              "      <td>[[Beauty, Makeup, Nails, Nail Polish]]</td>\n",
              "      <td>NaN</td>\n",
              "      <td>{'also_viewed': ['B0057JCYYE', 'B00LMXHR1Y', '...</td>\n",
              "      <td>NaN</td>\n",
              "    </tr>\n",
              "    <tr>\n",
              "      <th>259201</th>\n",
              "      <td>B00LPVG6V0</td>\n",
              "      <td>ResQ Organics Face &amp; Body Wash - With Aloe Ver...</td>\n",
              "      <td>ResQ Organics Face &amp;amp; Body Wash - Aloe Vera...</td>\n",
              "      <td>http://ecx.images-amazon.com/images/I/31C1w4Ku...</td>\n",
              "      <td>NaN</td>\n",
              "      <td>[[Beauty, Skin Care, Face, Creams &amp; Moisturize...</td>\n",
              "      <td>NaN</td>\n",
              "      <td>NaN</td>\n",
              "      <td>NaN</td>\n",
              "    </tr>\n",
              "    <tr>\n",
              "      <th>259202</th>\n",
              "      <td>B00LTDUHJQ</td>\n",
              "      <td>Color: White\\n2 Tier \\nFullness 72 inches\\nSew...</td>\n",
              "      <td>2 Tier Tulle Elbow Wedding Veil with Ribbon Ed...</td>\n",
              "      <td>http://ecx.images-amazon.com/images/I/51%2B%2B...</td>\n",
              "      <td>NaN</td>\n",
              "      <td>[[Beauty, Hair Care, Styling Tools, Styling Ac...</td>\n",
              "      <td>NaN</td>\n",
              "      <td>NaN</td>\n",
              "      <td>NaN</td>\n",
              "    </tr>\n",
              "    <tr>\n",
              "      <th>259203</th>\n",
              "      <td>B00LU0LTOU</td>\n",
              "      <td>The bags produced by us are 100% ECO friendly ...</td>\n",
              "      <td>*ECOCRAFTWORLD* GENUINE BUFFALO LEATHER TRAVEL...</td>\n",
              "      <td>http://ecx.images-amazon.com/images/I/41kXSEch...</td>\n",
              "      <td>NaN</td>\n",
              "      <td>[[Beauty, Tools &amp; Accessories, Bags &amp; Cases, T...</td>\n",
              "      <td>130.00</td>\n",
              "      <td>{'also_viewed': ['B00JWX6OOW', 'B00L4HJCZC', '...</td>\n",
              "      <td>NaN</td>\n",
              "    </tr>\n",
              "  </tbody>\n",
              "</table>\n",
              "<p>259204 rows × 9 columns</p>\n",
              "</div>\n",
              "    <div class=\"colab-df-buttons\">\n",
              "\n",
              "  <div class=\"colab-df-container\">\n",
              "    <button class=\"colab-df-convert\" onclick=\"convertToInteractive('df-30ac90dd-4464-48b4-bf6b-7816014d1f13')\"\n",
              "            title=\"Convert this dataframe to an interactive table.\"\n",
              "            style=\"display:none;\">\n",
              "\n",
              "  <svg xmlns=\"http://www.w3.org/2000/svg\" height=\"24px\" viewBox=\"0 -960 960 960\">\n",
              "    <path d=\"M120-120v-720h720v720H120Zm60-500h600v-160H180v160Zm220 220h160v-160H400v160Zm0 220h160v-160H400v160ZM180-400h160v-160H180v160Zm440 0h160v-160H620v160ZM180-180h160v-160H180v160Zm440 0h160v-160H620v160Z\"/>\n",
              "  </svg>\n",
              "    </button>\n",
              "\n",
              "  <style>\n",
              "    .colab-df-container {\n",
              "      display:flex;\n",
              "      gap: 12px;\n",
              "    }\n",
              "\n",
              "    .colab-df-convert {\n",
              "      background-color: #E8F0FE;\n",
              "      border: none;\n",
              "      border-radius: 50%;\n",
              "      cursor: pointer;\n",
              "      display: none;\n",
              "      fill: #1967D2;\n",
              "      height: 32px;\n",
              "      padding: 0 0 0 0;\n",
              "      width: 32px;\n",
              "    }\n",
              "\n",
              "    .colab-df-convert:hover {\n",
              "      background-color: #E2EBFA;\n",
              "      box-shadow: 0px 1px 2px rgba(60, 64, 67, 0.3), 0px 1px 3px 1px rgba(60, 64, 67, 0.15);\n",
              "      fill: #174EA6;\n",
              "    }\n",
              "\n",
              "    .colab-df-buttons div {\n",
              "      margin-bottom: 4px;\n",
              "    }\n",
              "\n",
              "    [theme=dark] .colab-df-convert {\n",
              "      background-color: #3B4455;\n",
              "      fill: #D2E3FC;\n",
              "    }\n",
              "\n",
              "    [theme=dark] .colab-df-convert:hover {\n",
              "      background-color: #434B5C;\n",
              "      box-shadow: 0px 1px 3px 1px rgba(0, 0, 0, 0.15);\n",
              "      filter: drop-shadow(0px 1px 2px rgba(0, 0, 0, 0.3));\n",
              "      fill: #FFFFFF;\n",
              "    }\n",
              "  </style>\n",
              "\n",
              "    <script>\n",
              "      const buttonEl =\n",
              "        document.querySelector('#df-30ac90dd-4464-48b4-bf6b-7816014d1f13 button.colab-df-convert');\n",
              "      buttonEl.style.display =\n",
              "        google.colab.kernel.accessAllowed ? 'block' : 'none';\n",
              "\n",
              "      async function convertToInteractive(key) {\n",
              "        const element = document.querySelector('#df-30ac90dd-4464-48b4-bf6b-7816014d1f13');\n",
              "        const dataTable =\n",
              "          await google.colab.kernel.invokeFunction('convertToInteractive',\n",
              "                                                    [key], {});\n",
              "        if (!dataTable) return;\n",
              "\n",
              "        const docLinkHtml = 'Like what you see? Visit the ' +\n",
              "          '<a target=\"_blank\" href=https://colab.research.google.com/notebooks/data_table.ipynb>data table notebook</a>'\n",
              "          + ' to learn more about interactive tables.';\n",
              "        element.innerHTML = '';\n",
              "        dataTable['output_type'] = 'display_data';\n",
              "        await google.colab.output.renderOutput(dataTable, element);\n",
              "        const docLink = document.createElement('div');\n",
              "        docLink.innerHTML = docLinkHtml;\n",
              "        element.appendChild(docLink);\n",
              "      }\n",
              "    </script>\n",
              "  </div>\n",
              "\n",
              "\n",
              "<div id=\"df-2194a88f-c35a-4a49-b478-243b02464e0c\">\n",
              "  <button class=\"colab-df-quickchart\" onclick=\"quickchart('df-2194a88f-c35a-4a49-b478-243b02464e0c')\"\n",
              "            title=\"Suggest charts\"\n",
              "            style=\"display:none;\">\n",
              "\n",
              "<svg xmlns=\"http://www.w3.org/2000/svg\" height=\"24px\"viewBox=\"0 0 24 24\"\n",
              "     width=\"24px\">\n",
              "    <g>\n",
              "        <path d=\"M19 3H5c-1.1 0-2 .9-2 2v14c0 1.1.9 2 2 2h14c1.1 0 2-.9 2-2V5c0-1.1-.9-2-2-2zM9 17H7v-7h2v7zm4 0h-2V7h2v10zm4 0h-2v-4h2v4z\"/>\n",
              "    </g>\n",
              "</svg>\n",
              "  </button>\n",
              "\n",
              "<style>\n",
              "  .colab-df-quickchart {\n",
              "      --bg-color: #E8F0FE;\n",
              "      --fill-color: #1967D2;\n",
              "      --hover-bg-color: #E2EBFA;\n",
              "      --hover-fill-color: #174EA6;\n",
              "      --disabled-fill-color: #AAA;\n",
              "      --disabled-bg-color: #DDD;\n",
              "  }\n",
              "\n",
              "  [theme=dark] .colab-df-quickchart {\n",
              "      --bg-color: #3B4455;\n",
              "      --fill-color: #D2E3FC;\n",
              "      --hover-bg-color: #434B5C;\n",
              "      --hover-fill-color: #FFFFFF;\n",
              "      --disabled-bg-color: #3B4455;\n",
              "      --disabled-fill-color: #666;\n",
              "  }\n",
              "\n",
              "  .colab-df-quickchart {\n",
              "    background-color: var(--bg-color);\n",
              "    border: none;\n",
              "    border-radius: 50%;\n",
              "    cursor: pointer;\n",
              "    display: none;\n",
              "    fill: var(--fill-color);\n",
              "    height: 32px;\n",
              "    padding: 0;\n",
              "    width: 32px;\n",
              "  }\n",
              "\n",
              "  .colab-df-quickchart:hover {\n",
              "    background-color: var(--hover-bg-color);\n",
              "    box-shadow: 0 1px 2px rgba(60, 64, 67, 0.3), 0 1px 3px 1px rgba(60, 64, 67, 0.15);\n",
              "    fill: var(--button-hover-fill-color);\n",
              "  }\n",
              "\n",
              "  .colab-df-quickchart-complete:disabled,\n",
              "  .colab-df-quickchart-complete:disabled:hover {\n",
              "    background-color: var(--disabled-bg-color);\n",
              "    fill: var(--disabled-fill-color);\n",
              "    box-shadow: none;\n",
              "  }\n",
              "\n",
              "  .colab-df-spinner {\n",
              "    border: 2px solid var(--fill-color);\n",
              "    border-color: transparent;\n",
              "    border-bottom-color: var(--fill-color);\n",
              "    animation:\n",
              "      spin 1s steps(1) infinite;\n",
              "  }\n",
              "\n",
              "  @keyframes spin {\n",
              "    0% {\n",
              "      border-color: transparent;\n",
              "      border-bottom-color: var(--fill-color);\n",
              "      border-left-color: var(--fill-color);\n",
              "    }\n",
              "    20% {\n",
              "      border-color: transparent;\n",
              "      border-left-color: var(--fill-color);\n",
              "      border-top-color: var(--fill-color);\n",
              "    }\n",
              "    30% {\n",
              "      border-color: transparent;\n",
              "      border-left-color: var(--fill-color);\n",
              "      border-top-color: var(--fill-color);\n",
              "      border-right-color: var(--fill-color);\n",
              "    }\n",
              "    40% {\n",
              "      border-color: transparent;\n",
              "      border-right-color: var(--fill-color);\n",
              "      border-top-color: var(--fill-color);\n",
              "    }\n",
              "    60% {\n",
              "      border-color: transparent;\n",
              "      border-right-color: var(--fill-color);\n",
              "    }\n",
              "    80% {\n",
              "      border-color: transparent;\n",
              "      border-right-color: var(--fill-color);\n",
              "      border-bottom-color: var(--fill-color);\n",
              "    }\n",
              "    90% {\n",
              "      border-color: transparent;\n",
              "      border-bottom-color: var(--fill-color);\n",
              "    }\n",
              "  }\n",
              "</style>\n",
              "\n",
              "  <script>\n",
              "    async function quickchart(key) {\n",
              "      const quickchartButtonEl =\n",
              "        document.querySelector('#' + key + ' button');\n",
              "      quickchartButtonEl.disabled = true;  // To prevent multiple clicks.\n",
              "      quickchartButtonEl.classList.add('colab-df-spinner');\n",
              "      try {\n",
              "        const charts = await google.colab.kernel.invokeFunction(\n",
              "            'suggestCharts', [key], {});\n",
              "      } catch (error) {\n",
              "        console.error('Error during call to suggestCharts:', error);\n",
              "      }\n",
              "      quickchartButtonEl.classList.remove('colab-df-spinner');\n",
              "      quickchartButtonEl.classList.add('colab-df-quickchart-complete');\n",
              "    }\n",
              "    (() => {\n",
              "      let quickchartButtonEl =\n",
              "        document.querySelector('#df-2194a88f-c35a-4a49-b478-243b02464e0c button');\n",
              "      quickchartButtonEl.style.display =\n",
              "        google.colab.kernel.accessAllowed ? 'block' : 'none';\n",
              "    })();\n",
              "  </script>\n",
              "</div>\n",
              "\n",
              "  <div id=\"id_7775b560-ca2d-4087-abc9-edd88fc74527\">\n",
              "    <style>\n",
              "      .colab-df-generate {\n",
              "        background-color: #E8F0FE;\n",
              "        border: none;\n",
              "        border-radius: 50%;\n",
              "        cursor: pointer;\n",
              "        display: none;\n",
              "        fill: #1967D2;\n",
              "        height: 32px;\n",
              "        padding: 0 0 0 0;\n",
              "        width: 32px;\n",
              "      }\n",
              "\n",
              "      .colab-df-generate:hover {\n",
              "        background-color: #E2EBFA;\n",
              "        box-shadow: 0px 1px 2px rgba(60, 64, 67, 0.3), 0px 1px 3px 1px rgba(60, 64, 67, 0.15);\n",
              "        fill: #174EA6;\n",
              "      }\n",
              "\n",
              "      [theme=dark] .colab-df-generate {\n",
              "        background-color: #3B4455;\n",
              "        fill: #D2E3FC;\n",
              "      }\n",
              "\n",
              "      [theme=dark] .colab-df-generate:hover {\n",
              "        background-color: #434B5C;\n",
              "        box-shadow: 0px 1px 3px 1px rgba(0, 0, 0, 0.15);\n",
              "        filter: drop-shadow(0px 1px 2px rgba(0, 0, 0, 0.3));\n",
              "        fill: #FFFFFF;\n",
              "      }\n",
              "    </style>\n",
              "    <button class=\"colab-df-generate\" onclick=\"generateWithVariable('meta_data_df')\"\n",
              "            title=\"Generate code using this dataframe.\"\n",
              "            style=\"display:none;\">\n",
              "\n",
              "  <svg xmlns=\"http://www.w3.org/2000/svg\" height=\"24px\"viewBox=\"0 0 24 24\"\n",
              "       width=\"24px\">\n",
              "    <path d=\"M7,19H8.4L18.45,9,17,7.55,7,17.6ZM5,21V16.75L18.45,3.32a2,2,0,0,1,2.83,0l1.4,1.43a1.91,1.91,0,0,1,.58,1.4,1.91,1.91,0,0,1-.58,1.4L9.25,21ZM18.45,9,17,7.55Zm-12,3A5.31,5.31,0,0,0,4.9,8.1,5.31,5.31,0,0,0,1,6.5,5.31,5.31,0,0,0,4.9,4.9,5.31,5.31,0,0,0,6.5,1,5.31,5.31,0,0,0,8.1,4.9,5.31,5.31,0,0,0,12,6.5,5.46,5.46,0,0,0,6.5,12Z\"/>\n",
              "  </svg>\n",
              "    </button>\n",
              "    <script>\n",
              "      (() => {\n",
              "      const buttonEl =\n",
              "        document.querySelector('#id_7775b560-ca2d-4087-abc9-edd88fc74527 button.colab-df-generate');\n",
              "      buttonEl.style.display =\n",
              "        google.colab.kernel.accessAllowed ? 'block' : 'none';\n",
              "\n",
              "      buttonEl.onclick = () => {\n",
              "        google.colab.notebook.generateWithVariable('meta_data_df');\n",
              "      }\n",
              "      })();\n",
              "    </script>\n",
              "  </div>\n",
              "\n",
              "    </div>\n",
              "  </div>\n"
            ],
            "application/vnd.google.colaboratory.intrinsic+json": {
              "type": "dataframe",
              "variable_name": "meta_data_df"
            }
          },
          "metadata": {},
          "execution_count": 23
        }
      ],
      "source": [
        "meta_data_df = getDF(\"/content/meta_Beauty.json.gz\")\n",
        "meta_data_df"
      ]
    },
    {
      "cell_type": "code",
      "execution_count": null,
      "metadata": {
        "colab": {
          "base_uri": "https://localhost:8080/",
          "height": 366
        },
        "id": "BAALo4r3oMo6",
        "outputId": "cdd91c6b-2272-4e32-e0a1-0dab54ffccc1"
      },
      "outputs": [
        {
          "output_type": "execute_result",
          "data": {
            "text/plain": [
              "asin                0\n",
              "description     24707\n",
              "title             444\n",
              "imUrl              88\n",
              "salesRank        5188\n",
              "categories          0\n",
              "price           69274\n",
              "related         51350\n",
              "brand          131038\n",
              "dtype: int64"
            ],
            "text/html": [
              "<div>\n",
              "<style scoped>\n",
              "    .dataframe tbody tr th:only-of-type {\n",
              "        vertical-align: middle;\n",
              "    }\n",
              "\n",
              "    .dataframe tbody tr th {\n",
              "        vertical-align: top;\n",
              "    }\n",
              "\n",
              "    .dataframe thead th {\n",
              "        text-align: right;\n",
              "    }\n",
              "</style>\n",
              "<table border=\"1\" class=\"dataframe\">\n",
              "  <thead>\n",
              "    <tr style=\"text-align: right;\">\n",
              "      <th></th>\n",
              "      <th>0</th>\n",
              "    </tr>\n",
              "  </thead>\n",
              "  <tbody>\n",
              "    <tr>\n",
              "      <th>asin</th>\n",
              "      <td>0</td>\n",
              "    </tr>\n",
              "    <tr>\n",
              "      <th>description</th>\n",
              "      <td>24707</td>\n",
              "    </tr>\n",
              "    <tr>\n",
              "      <th>title</th>\n",
              "      <td>444</td>\n",
              "    </tr>\n",
              "    <tr>\n",
              "      <th>imUrl</th>\n",
              "      <td>88</td>\n",
              "    </tr>\n",
              "    <tr>\n",
              "      <th>salesRank</th>\n",
              "      <td>5188</td>\n",
              "    </tr>\n",
              "    <tr>\n",
              "      <th>categories</th>\n",
              "      <td>0</td>\n",
              "    </tr>\n",
              "    <tr>\n",
              "      <th>price</th>\n",
              "      <td>69274</td>\n",
              "    </tr>\n",
              "    <tr>\n",
              "      <th>related</th>\n",
              "      <td>51350</td>\n",
              "    </tr>\n",
              "    <tr>\n",
              "      <th>brand</th>\n",
              "      <td>131038</td>\n",
              "    </tr>\n",
              "  </tbody>\n",
              "</table>\n",
              "</div><br><label><b>dtype:</b> int64</label>"
            ]
          },
          "metadata": {},
          "execution_count": 24
        }
      ],
      "source": [
        "meta_data_df.isna().sum()"
      ]
    },
    {
      "cell_type": "code",
      "execution_count": null,
      "metadata": {
        "id": "8YY0zLVooc8H"
      },
      "outputs": [],
      "source": [
        "#exploring NaN and deciding which data is helpful to return to our users for recommendations"
      ]
    },
    {
      "cell_type": "code",
      "execution_count": null,
      "metadata": {
        "id": "-U4-RQS8ofTK"
      },
      "outputs": [],
      "source": [
        "meta_data_df.shape\n",
        "baselinee2=0.19976"
      ]
    },
    {
      "cell_type": "code",
      "execution_count": null,
      "metadata": {
        "colab": {
          "base_uri": "https://localhost:8080/",
          "height": 317
        },
        "id": "kGIgKpJ3ohEw",
        "outputId": "4b4b00a9-8806-4079-b773-cd6c73211160"
      },
      "outputs": [
        {
          "output_type": "execute_result",
          "data": {
            "image/jpeg": "[encoded data removed]",
            "text/plain": [
              "<IPython.core.display.Image object>"
            ]
          },
          "metadata": {},
          "execution_count": 26
        }
      ],
      "source": [
        "from IPython import display\n",
        "Score=0.21524\n",
        "display.Image(meta_data_df.loc[192][\"imUrl\"])\n",
        "#display.Image(meta_data_df_cleaned.loc[259179][\"imUrl\"])"
      ]
    },
    {
      "cell_type": "code",
      "execution_count": null,
      "metadata": {
        "colab": {
          "base_uri": "https://localhost:8080/",
          "height": 335
        },
        "id": "23qtwqehojn0",
        "outputId": "70f05e39-28d7-405f-b144-1c2af0982e3a"
      },
      "outputs": [
        {
          "output_type": "execute_result",
          "data": {
            "text/plain": [
              "count    189930.000000\n",
              "mean         24.878165\n",
              "std          33.431190\n",
              "min           0.010000\n",
              "25%           8.240000\n",
              "50%          15.690000\n",
              "75%          29.300000\n",
              "max         999.990000\n",
              "Name: price, dtype: float64"
            ],
            "text/html": [
              "<div>\n",
              "<style scoped>\n",
              "    .dataframe tbody tr th:only-of-type {\n",
              "        vertical-align: middle;\n",
              "    }\n",
              "\n",
              "    .dataframe tbody tr th {\n",
              "        vertical-align: top;\n",
              "    }\n",
              "\n",
              "    .dataframe thead th {\n",
              "        text-align: right;\n",
              "    }\n",
              "</style>\n",
              "<table border=\"1\" class=\"dataframe\">\n",
              "  <thead>\n",
              "    <tr style=\"text-align: right;\">\n",
              "      <th></th>\n",
              "      <th>price</th>\n",
              "    </tr>\n",
              "  </thead>\n",
              "  <tbody>\n",
              "    <tr>\n",
              "      <th>count</th>\n",
              "      <td>189930.000000</td>\n",
              "    </tr>\n",
              "    <tr>\n",
              "      <th>mean</th>\n",
              "      <td>24.878165</td>\n",
              "    </tr>\n",
              "    <tr>\n",
              "      <th>std</th>\n",
              "      <td>33.431190</td>\n",
              "    </tr>\n",
              "    <tr>\n",
              "      <th>min</th>\n",
              "      <td>0.010000</td>\n",
              "    </tr>\n",
              "    <tr>\n",
              "      <th>25%</th>\n",
              "      <td>8.240000</td>\n",
              "    </tr>\n",
              "    <tr>\n",
              "      <th>50%</th>\n",
              "      <td>15.690000</td>\n",
              "    </tr>\n",
              "    <tr>\n",
              "      <th>75%</th>\n",
              "      <td>29.300000</td>\n",
              "    </tr>\n",
              "    <tr>\n",
              "      <th>max</th>\n",
              "      <td>999.990000</td>\n",
              "    </tr>\n",
              "  </tbody>\n",
              "</table>\n",
              "</div><br><label><b>dtype:</b> float64</label>"
            ]
          },
          "metadata": {},
          "execution_count": 27
        }
      ],
      "source": [
        "meta_data_df.price.describe()"
      ]
    },
    {
      "cell_type": "code",
      "execution_count": null,
      "metadata": {
        "colab": {
          "base_uri": "https://localhost:8080/",
          "height": 115
        },
        "id": "RcnZ13ZUomP0",
        "outputId": "ef51cbdf-05fb-42a7-803d-7446d5e33132"
      },
      "outputs": [
        {
          "output_type": "execute_result",
          "data": {
            "text/plain": [
              "              asin                                        description  \\\n",
              "197364  B009PQIAL6  This beautifully sculpted and gracefully desig...   \n",
              "\n",
              "                                                    title  \\\n",
              "197364  &quot;Vernet&quot; Black Dual Dryer Chair With...   \n",
              "\n",
              "                                                    imUrl           salesRank  \\\n",
              "197364  http://ecx.images-amazon.com/images/I/41ks5sFA...  {'Beauty': 582815}   \n",
              "\n",
              "                                               categories   price  \\\n",
              "197364  [[Beauty, Tools & Accessories, Nail Tools, Nai...  999.99   \n",
              "\n",
              "                                                  related brand  \n",
              "197364  {'also_viewed': ['B004O4N4OW', 'B009ZHVQYI', '...   NaN  "
            ],
            "text/html": [
              "\n",
              "  <div id=\"df-b17475be-ce79-4b32-948c-e494bffd3675\" class=\"colab-df-container\">\n",
              "    <div>\n",
              "<style scoped>\n",
              "    .dataframe tbody tr th:only-of-type {\n",
              "        vertical-align: middle;\n",
              "    }\n",
              "\n",
              "    .dataframe tbody tr th {\n",
              "        vertical-align: top;\n",
              "    }\n",
              "\n",
              "    .dataframe thead th {\n",
              "        text-align: right;\n",
              "    }\n",
              "</style>\n",
              "<table border=\"1\" class=\"dataframe\">\n",
              "  <thead>\n",
              "    <tr style=\"text-align: right;\">\n",
              "      <th></th>\n",
              "      <th>asin</th>\n",
              "      <th>description</th>\n",
              "      <th>title</th>\n",
              "      <th>imUrl</th>\n",
              "      <th>salesRank</th>\n",
              "      <th>categories</th>\n",
              "      <th>price</th>\n",
              "      <th>related</th>\n",
              "      <th>brand</th>\n",
              "    </tr>\n",
              "  </thead>\n",
              "  <tbody>\n",
              "    <tr>\n",
              "      <th>197364</th>\n",
              "      <td>B009PQIAL6</td>\n",
              "      <td>This beautifully sculpted and gracefully desig...</td>\n",
              "      <td>&amp;quot;Vernet&amp;quot; Black Dual Dryer Chair With...</td>\n",
              "      <td>http://ecx.images-amazon.com/images/I/41ks5sFA...</td>\n",
              "      <td>{'Beauty': 582815}</td>\n",
              "      <td>[[Beauty, Tools &amp; Accessories, Nail Tools, Nai...</td>\n",
              "      <td>999.99</td>\n",
              "      <td>{'also_viewed': ['B004O4N4OW', 'B009ZHVQYI', '...</td>\n",
              "      <td>NaN</td>\n",
              "    </tr>\n",
              "  </tbody>\n",
              "</table>\n",
              "</div>\n",
              "    <div class=\"colab-df-buttons\">\n",
              "\n",
              "  <div class=\"colab-df-container\">\n",
              "    <button class=\"colab-df-convert\" onclick=\"convertToInteractive('df-b17475be-ce79-4b32-948c-e494bffd3675')\"\n",
              "            title=\"Convert this dataframe to an interactive table.\"\n",
              "            style=\"display:none;\">\n",
              "\n",
              "  <svg xmlns=\"http://www.w3.org/2000/svg\" height=\"24px\" viewBox=\"0 -960 960 960\">\n",
              "    <path d=\"M120-120v-720h720v720H120Zm60-500h600v-160H180v160Zm220 220h160v-160H400v160Zm0 220h160v-160H400v160ZM180-400h160v-160H180v160Zm440 0h160v-160H620v160ZM180-180h160v-160H180v160Zm440 0h160v-160H620v160Z\"/>\n",
              "  </svg>\n",
              "    </button>\n",
              "\n",
              "  <style>\n",
              "    .colab-df-container {\n",
              "      display:flex;\n",
              "      gap: 12px;\n",
              "    }\n",
              "\n",
              "    .colab-df-convert {\n",
              "      background-color: #E8F0FE;\n",
              "      border: none;\n",
              "      border-radius: 50%;\n",
              "      cursor: pointer;\n",
              "      display: none;\n",
              "      fill: #1967D2;\n",
              "      height: 32px;\n",
              "      padding: 0 0 0 0;\n",
              "      width: 32px;\n",
              "    }\n",
              "\n",
              "    .colab-df-convert:hover {\n",
              "      background-color: #E2EBFA;\n",
              "      box-shadow: 0px 1px 2px rgba(60, 64, 67, 0.3), 0px 1px 3px 1px rgba(60, 64, 67, 0.15);\n",
              "      fill: #174EA6;\n",
              "    }\n",
              "\n",
              "    .colab-df-buttons div {\n",
              "      margin-bottom: 4px;\n",
              "    }\n",
              "\n",
              "    [theme=dark] .colab-df-convert {\n",
              "      background-color: #3B4455;\n",
              "      fill: #D2E3FC;\n",
              "    }\n",
              "\n",
              "    [theme=dark] .colab-df-convert:hover {\n",
              "      background-color: #434B5C;\n",
              "      box-shadow: 0px 1px 3px 1px rgba(0, 0, 0, 0.15);\n",
              "      filter: drop-shadow(0px 1px 2px rgba(0, 0, 0, 0.3));\n",
              "      fill: #FFFFFF;\n",
              "    }\n",
              "  </style>\n",
              "\n",
              "    <script>\n",
              "      const buttonEl =\n",
              "        document.querySelector('#df-b17475be-ce79-4b32-948c-e494bffd3675 button.colab-df-convert');\n",
              "      buttonEl.style.display =\n",
              "        google.colab.kernel.accessAllowed ? 'block' : 'none';\n",
              "\n",
              "      async function convertToInteractive(key) {\n",
              "        const element = document.querySelector('#df-b17475be-ce79-4b32-948c-e494bffd3675');\n",
              "        const dataTable =\n",
              "          await google.colab.kernel.invokeFunction('convertToInteractive',\n",
              "                                                    [key], {});\n",
              "        if (!dataTable) return;\n",
              "\n",
              "        const docLinkHtml = 'Like what you see? Visit the ' +\n",
              "          '<a target=\"_blank\" href=https://colab.research.google.com/notebooks/data_table.ipynb>data table notebook</a>'\n",
              "          + ' to learn more about interactive tables.';\n",
              "        element.innerHTML = '';\n",
              "        dataTable['output_type'] = 'display_data';\n",
              "        await google.colab.output.renderOutput(dataTable, element);\n",
              "        const docLink = document.createElement('div');\n",
              "        docLink.innerHTML = docLinkHtml;\n",
              "        element.appendChild(docLink);\n",
              "      }\n",
              "    </script>\n",
              "  </div>\n",
              "\n",
              "\n",
              "    </div>\n",
              "  </div>\n"
            ],
            "application/vnd.google.colaboratory.intrinsic+json": {
              "type": "dataframe",
              "repr_error": "0"
            }
          },
          "metadata": {},
          "execution_count": 28
        }
      ],
      "source": [
        "meta_data_df[meta_data_df['price'] == 999.99]"
      ]
    },
    {
      "cell_type": "code",
      "execution_count": null,
      "metadata": {
        "colab": {
          "base_uri": "https://localhost:8080/",
          "height": 317
        },
        "id": "RBdOAXYYooQd",
        "outputId": "422ea311-26ff-46f7-c1ca-49562951e068"
      },
      "outputs": [
        {
          "output_type": "execute_result",
          "data": {
            "image/jpeg": "[encoded data removed]",
            "text/plain": [
              "<IPython.core.display.Image object>"
            ]
          },
          "metadata": {},
          "execution_count": 29
        }
      ],
      "source": [
        "display.Image(meta_data_df.loc[197364][\"imUrl\"])"
      ]
    },
    {
      "cell_type": "code",
      "execution_count": null,
      "metadata": {
        "id": "sm4KfbbyoqDf"
      },
      "outputs": [],
      "source": [
        "meta_data_df.rename(columns={'description':'Description', 'title': 'Product Name', 'asin':'ASIN', 'imUrl':'Image'}, inplace=True)\n",
        "sgd_baselinee=0.15432"
      ]
    },
    {
      "cell_type": "code",
      "execution_count": null,
      "metadata": {
        "colab": {
          "base_uri": "https://localhost:8080/",
          "height": 230
        },
        "id": "j1yolrOzoxNS",
        "outputId": "4408e19f-b9a7-477f-ad29-f19df1cceab6"
      },
      "outputs": [
        {
          "output_type": "execute_result",
          "data": {
            "text/plain": [
              "         ASIN                                        Description  \\\n",
              "0  0205616461  As we age, our once youthful, healthy skin suc...   \n",
              "1  0558925278  Mineral Powder Brush--Apply powder or mineral ...   \n",
              "2  0733001998  From the Greek island of Chios, this Mastiha b...   \n",
              "\n",
              "                                        Product Name  \\\n",
              "0  Bio-Active Anti-Aging Serum (Firming Ultra-Hyd...   \n",
              "1  Eco Friendly Ecotools Quality Natural Bamboo C...   \n",
              "2                                Mastiha Body Lotion   \n",
              "\n",
              "                                               Image  \\\n",
              "0  http://ecx.images-amazon.com/images/I/41DecrGO...   \n",
              "1  http://ecx.images-amazon.com/images/I/51L%2BzY...   \n",
              "2  http://ecx.images-amazon.com/images/I/311WK5y1...   \n",
              "\n",
              "                            salesRank  \\\n",
              "0  {'Health & Personal Care': 461765}   \n",
              "1                  {'Beauty': 402875}   \n",
              "2                  {'Beauty': 540255}   \n",
              "\n",
              "                                          categories  price related brand  \n",
              "0  [[Beauty, Skin Care, Face, Creams & Moisturize...    NaN     NaN   NaN  \n",
              "1  [[Beauty, Tools & Accessories, Makeup Brushes ...    NaN     NaN   NaN  \n",
              "2  [[Beauty, Skin Care, Body, Moisturizers, Lotio...    NaN     NaN   NaN  "
            ],
            "text/html": [
              "\n",
              "  <div id=\"df-aed78854-62b7-4819-b1c5-44a211b3de5f\" class=\"colab-df-container\">\n",
              "    <div>\n",
              "<style scoped>\n",
              "    .dataframe tbody tr th:only-of-type {\n",
              "        vertical-align: middle;\n",
              "    }\n",
              "\n",
              "    .dataframe tbody tr th {\n",
              "        vertical-align: top;\n",
              "    }\n",
              "\n",
              "    .dataframe thead th {\n",
              "        text-align: right;\n",
              "    }\n",
              "</style>\n",
              "<table border=\"1\" class=\"dataframe\">\n",
              "  <thead>\n",
              "    <tr style=\"text-align: right;\">\n",
              "      <th></th>\n",
              "      <th>ASIN</th>\n",
              "      <th>Description</th>\n",
              "      <th>Product Name</th>\n",
              "      <th>Image</th>\n",
              "      <th>salesRank</th>\n",
              "      <th>categories</th>\n",
              "      <th>price</th>\n",
              "      <th>related</th>\n",
              "      <th>brand</th>\n",
              "    </tr>\n",
              "  </thead>\n",
              "  <tbody>\n",
              "    <tr>\n",
              "      <th>0</th>\n",
              "      <td>0205616461</td>\n",
              "      <td>As we age, our once youthful, healthy skin suc...</td>\n",
              "      <td>Bio-Active Anti-Aging Serum (Firming Ultra-Hyd...</td>\n",
              "      <td>http://ecx.images-amazon.com/images/I/41DecrGO...</td>\n",
              "      <td>{'Health &amp; Personal Care': 461765}</td>\n",
              "      <td>[[Beauty, Skin Care, Face, Creams &amp; Moisturize...</td>\n",
              "      <td>NaN</td>\n",
              "      <td>NaN</td>\n",
              "      <td>NaN</td>\n",
              "    </tr>\n",
              "    <tr>\n",
              "      <th>1</th>\n",
              "      <td>0558925278</td>\n",
              "      <td>Mineral Powder Brush--Apply powder or mineral ...</td>\n",
              "      <td>Eco Friendly Ecotools Quality Natural Bamboo C...</td>\n",
              "      <td>http://ecx.images-amazon.com/images/I/51L%2BzY...</td>\n",
              "      <td>{'Beauty': 402875}</td>\n",
              "      <td>[[Beauty, Tools &amp; Accessories, Makeup Brushes ...</td>\n",
              "      <td>NaN</td>\n",
              "      <td>NaN</td>\n",
              "      <td>NaN</td>\n",
              "    </tr>\n",
              "    <tr>\n",
              "      <th>2</th>\n",
              "      <td>0733001998</td>\n",
              "      <td>From the Greek island of Chios, this Mastiha b...</td>\n",
              "      <td>Mastiha Body Lotion</td>\n",
              "      <td>http://ecx.images-amazon.com/images/I/311WK5y1...</td>\n",
              "      <td>{'Beauty': 540255}</td>\n",
              "      <td>[[Beauty, Skin Care, Body, Moisturizers, Lotio...</td>\n",
              "      <td>NaN</td>\n",
              "      <td>NaN</td>\n",
              "      <td>NaN</td>\n",
              "    </tr>\n",
              "  </tbody>\n",
              "</table>\n",
              "</div>\n",
              "    <div class=\"colab-df-buttons\">\n",
              "\n",
              "  <div class=\"colab-df-container\">\n",
              "    <button class=\"colab-df-convert\" onclick=\"convertToInteractive('df-aed78854-62b7-4819-b1c5-44a211b3de5f')\"\n",
              "            title=\"Convert this dataframe to an interactive table.\"\n",
              "            style=\"display:none;\">\n",
              "\n",
              "  <svg xmlns=\"http://www.w3.org/2000/svg\" height=\"24px\" viewBox=\"0 -960 960 960\">\n",
              "    <path d=\"M120-120v-720h720v720H120Zm60-500h600v-160H180v160Zm220 220h160v-160H400v160Zm0 220h160v-160H400v160ZM180-400h160v-160H180v160Zm440 0h160v-160H620v160ZM180-180h160v-160H180v160Zm440 0h160v-160H620v160Z\"/>\n",
              "  </svg>\n",
              "    </button>\n",
              "\n",
              "  <style>\n",
              "    .colab-df-container {\n",
              "      display:flex;\n",
              "      gap: 12px;\n",
              "    }\n",
              "\n",
              "    .colab-df-convert {\n",
              "      background-color: #E8F0FE;\n",
              "      border: none;\n",
              "      border-radius: 50%;\n",
              "      cursor: pointer;\n",
              "      display: none;\n",
              "      fill: #1967D2;\n",
              "      height: 32px;\n",
              "      padding: 0 0 0 0;\n",
              "      width: 32px;\n",
              "    }\n",
              "\n",
              "    .colab-df-convert:hover {\n",
              "      background-color: #E2EBFA;\n",
              "      box-shadow: 0px 1px 2px rgba(60, 64, 67, 0.3), 0px 1px 3px 1px rgba(60, 64, 67, 0.15);\n",
              "      fill: #174EA6;\n",
              "    }\n",
              "\n",
              "    .colab-df-buttons div {\n",
              "      margin-bottom: 4px;\n",
              "    }\n",
              "\n",
              "    [theme=dark] .colab-df-convert {\n",
              "      background-color: #3B4455;\n",
              "      fill: #D2E3FC;\n",
              "    }\n",
              "\n",
              "    [theme=dark] .colab-df-convert:hover {\n",
              "      background-color: #434B5C;\n",
              "      box-shadow: 0px 1px 3px 1px rgba(0, 0, 0, 0.15);\n",
              "      filter: drop-shadow(0px 1px 2px rgba(0, 0, 0, 0.3));\n",
              "      fill: #FFFFFF;\n",
              "    }\n",
              "  </style>\n",
              "\n",
              "    <script>\n",
              "      const buttonEl =\n",
              "        document.querySelector('#df-aed78854-62b7-4819-b1c5-44a211b3de5f button.colab-df-convert');\n",
              "      buttonEl.style.display =\n",
              "        google.colab.kernel.accessAllowed ? 'block' : 'none';\n",
              "\n",
              "      async function convertToInteractive(key) {\n",
              "        const element = document.querySelector('#df-aed78854-62b7-4819-b1c5-44a211b3de5f');\n",
              "        const dataTable =\n",
              "          await google.colab.kernel.invokeFunction('convertToInteractive',\n",
              "                                                    [key], {});\n",
              "        if (!dataTable) return;\n",
              "\n",
              "        const docLinkHtml = 'Like what you see? Visit the ' +\n",
              "          '<a target=\"_blank\" href=https://colab.research.google.com/notebooks/data_table.ipynb>data table notebook</a>'\n",
              "          + ' to learn more about interactive tables.';\n",
              "        element.innerHTML = '';\n",
              "        dataTable['output_type'] = 'display_data';\n",
              "        await google.colab.output.renderOutput(dataTable, element);\n",
              "        const docLink = document.createElement('div');\n",
              "        docLink.innerHTML = docLinkHtml;\n",
              "        element.appendChild(docLink);\n",
              "      }\n",
              "    </script>\n",
              "  </div>\n",
              "\n",
              "\n",
              "<div id=\"df-cfb84506-d4bf-4223-83c9-7d528f5f8d67\">\n",
              "  <button class=\"colab-df-quickchart\" onclick=\"quickchart('df-cfb84506-d4bf-4223-83c9-7d528f5f8d67')\"\n",
              "            title=\"Suggest charts\"\n",
              "            style=\"display:none;\">\n",
              "\n",
              "<svg xmlns=\"http://www.w3.org/2000/svg\" height=\"24px\"viewBox=\"0 0 24 24\"\n",
              "     width=\"24px\">\n",
              "    <g>\n",
              "        <path d=\"M19 3H5c-1.1 0-2 .9-2 2v14c0 1.1.9 2 2 2h14c1.1 0 2-.9 2-2V5c0-1.1-.9-2-2-2zM9 17H7v-7h2v7zm4 0h-2V7h2v10zm4 0h-2v-4h2v4z\"/>\n",
              "    </g>\n",
              "</svg>\n",
              "  </button>\n",
              "\n",
              "<style>\n",
              "  .colab-df-quickchart {\n",
              "      --bg-color: #E8F0FE;\n",
              "      --fill-color: #1967D2;\n",
              "      --hover-bg-color: #E2EBFA;\n",
              "      --hover-fill-color: #174EA6;\n",
              "      --disabled-fill-color: #AAA;\n",
              "      --disabled-bg-color: #DDD;\n",
              "  }\n",
              "\n",
              "  [theme=dark] .colab-df-quickchart {\n",
              "      --bg-color: #3B4455;\n",
              "      --fill-color: #D2E3FC;\n",
              "      --hover-bg-color: #434B5C;\n",
              "      --hover-fill-color: #FFFFFF;\n",
              "      --disabled-bg-color: #3B4455;\n",
              "      --disabled-fill-color: #666;\n",
              "  }\n",
              "\n",
              "  .colab-df-quickchart {\n",
              "    background-color: var(--bg-color);\n",
              "    border: none;\n",
              "    border-radius: 50%;\n",
              "    cursor: pointer;\n",
              "    display: none;\n",
              "    fill: var(--fill-color);\n",
              "    height: 32px;\n",
              "    padding: 0;\n",
              "    width: 32px;\n",
              "  }\n",
              "\n",
              "  .colab-df-quickchart:hover {\n",
              "    background-color: var(--hover-bg-color);\n",
              "    box-shadow: 0 1px 2px rgba(60, 64, 67, 0.3), 0 1px 3px 1px rgba(60, 64, 67, 0.15);\n",
              "    fill: var(--button-hover-fill-color);\n",
              "  }\n",
              "\n",
              "  .colab-df-quickchart-complete:disabled,\n",
              "  .colab-df-quickchart-complete:disabled:hover {\n",
              "    background-color: var(--disabled-bg-color);\n",
              "    fill: var(--disabled-fill-color);\n",
              "    box-shadow: none;\n",
              "  }\n",
              "\n",
              "  .colab-df-spinner {\n",
              "    border: 2px solid var(--fill-color);\n",
              "    border-color: transparent;\n",
              "    border-bottom-color: var(--fill-color);\n",
              "    animation:\n",
              "      spin 1s steps(1) infinite;\n",
              "  }\n",
              "\n",
              "  @keyframes spin {\n",
              "    0% {\n",
              "      border-color: transparent;\n",
              "      border-bottom-color: var(--fill-color);\n",
              "      border-left-color: var(--fill-color);\n",
              "    }\n",
              "    20% {\n",
              "      border-color: transparent;\n",
              "      border-left-color: var(--fill-color);\n",
              "      border-top-color: var(--fill-color);\n",
              "    }\n",
              "    30% {\n",
              "      border-color: transparent;\n",
              "      border-left-color: var(--fill-color);\n",
              "      border-top-color: var(--fill-color);\n",
              "      border-right-color: var(--fill-color);\n",
              "    }\n",
              "    40% {\n",
              "      border-color: transparent;\n",
              "      border-right-color: var(--fill-color);\n",
              "      border-top-color: var(--fill-color);\n",
              "    }\n",
              "    60% {\n",
              "      border-color: transparent;\n",
              "      border-right-color: var(--fill-color);\n",
              "    }\n",
              "    80% {\n",
              "      border-color: transparent;\n",
              "      border-right-color: var(--fill-color);\n",
              "      border-bottom-color: var(--fill-color);\n",
              "    }\n",
              "    90% {\n",
              "      border-color: transparent;\n",
              "      border-bottom-color: var(--fill-color);\n",
              "    }\n",
              "  }\n",
              "</style>\n",
              "\n",
              "  <script>\n",
              "    async function quickchart(key) {\n",
              "      const quickchartButtonEl =\n",
              "        document.querySelector('#' + key + ' button');\n",
              "      quickchartButtonEl.disabled = true;  // To prevent multiple clicks.\n",
              "      quickchartButtonEl.classList.add('colab-df-spinner');\n",
              "      try {\n",
              "        const charts = await google.colab.kernel.invokeFunction(\n",
              "            'suggestCharts', [key], {});\n",
              "      } catch (error) {\n",
              "        console.error('Error during call to suggestCharts:', error);\n",
              "      }\n",
              "      quickchartButtonEl.classList.remove('colab-df-spinner');\n",
              "      quickchartButtonEl.classList.add('colab-df-quickchart-complete');\n",
              "    }\n",
              "    (() => {\n",
              "      let quickchartButtonEl =\n",
              "        document.querySelector('#df-cfb84506-d4bf-4223-83c9-7d528f5f8d67 button');\n",
              "      quickchartButtonEl.style.display =\n",
              "        google.colab.kernel.accessAllowed ? 'block' : 'none';\n",
              "    })();\n",
              "  </script>\n",
              "</div>\n",
              "\n",
              "    </div>\n",
              "  </div>\n"
            ],
            "application/vnd.google.colaboratory.intrinsic+json": {
              "type": "dataframe",
              "variable_name": "meta_data_df"
            }
          },
          "metadata": {},
          "execution_count": 31
        }
      ],
      "source": [
        "meta_data_df.head(3)"
      ]
    },
    {
      "cell_type": "code",
      "execution_count": null,
      "metadata": {
        "colab": {
          "base_uri": "https://localhost:8080/",
          "height": 366
        },
        "id": "4WjG_HdVo0T1",
        "outputId": "cabbebc4-6fc0-42c8-ac19-6a672287624e"
      },
      "outputs": [
        {
          "output_type": "execute_result",
          "data": {
            "text/plain": [
              "ASIN                 0\n",
              "Description      24707\n",
              "Product Name       444\n",
              "Image               88\n",
              "salesRank         5188\n",
              "categories           0\n",
              "price            69274\n",
              "related          51350\n",
              "brand           131038\n",
              "dtype: int64"
            ],
            "text/html": [
              "<div>\n",
              "<style scoped>\n",
              "    .dataframe tbody tr th:only-of-type {\n",
              "        vertical-align: middle;\n",
              "    }\n",
              "\n",
              "    .dataframe tbody tr th {\n",
              "        vertical-align: top;\n",
              "    }\n",
              "\n",
              "    .dataframe thead th {\n",
              "        text-align: right;\n",
              "    }\n",
              "</style>\n",
              "<table border=\"1\" class=\"dataframe\">\n",
              "  <thead>\n",
              "    <tr style=\"text-align: right;\">\n",
              "      <th></th>\n",
              "      <th>0</th>\n",
              "    </tr>\n",
              "  </thead>\n",
              "  <tbody>\n",
              "    <tr>\n",
              "      <th>ASIN</th>\n",
              "      <td>0</td>\n",
              "    </tr>\n",
              "    <tr>\n",
              "      <th>Description</th>\n",
              "      <td>24707</td>\n",
              "    </tr>\n",
              "    <tr>\n",
              "      <th>Product Name</th>\n",
              "      <td>444</td>\n",
              "    </tr>\n",
              "    <tr>\n",
              "      <th>Image</th>\n",
              "      <td>88</td>\n",
              "    </tr>\n",
              "    <tr>\n",
              "      <th>salesRank</th>\n",
              "      <td>5188</td>\n",
              "    </tr>\n",
              "    <tr>\n",
              "      <th>categories</th>\n",
              "      <td>0</td>\n",
              "    </tr>\n",
              "    <tr>\n",
              "      <th>price</th>\n",
              "      <td>69274</td>\n",
              "    </tr>\n",
              "    <tr>\n",
              "      <th>related</th>\n",
              "      <td>51350</td>\n",
              "    </tr>\n",
              "    <tr>\n",
              "      <th>brand</th>\n",
              "      <td>131038</td>\n",
              "    </tr>\n",
              "  </tbody>\n",
              "</table>\n",
              "</div><br><label><b>dtype:</b> int64</label>"
            ]
          },
          "metadata": {},
          "execution_count": 32
        }
      ],
      "source": [
        "meta_data_df.isna().sum()"
      ]
    },
    {
      "cell_type": "code",
      "execution_count": null,
      "metadata": {
        "id": "k2KMz-3Ro2_A"
      },
      "outputs": [],
      "source": [
        "#dropping brand due to large # of nulls\n",
        "meta_data_df.drop(columns=['brand'], inplace=True)"
      ]
    },
    {
      "cell_type": "markdown",
      "metadata": {
        "id": "NWduZeB8o-P0"
      },
      "source": [
        "## Methods"
      ]
    },
    {
      "cell_type": "code",
      "execution_count": null,
      "metadata": {
        "id": "QLxcP04Jo6U6"
      },
      "outputs": [],
      "source": [
        "reader = Reader(rating_scale=(1, 5))\n",
        "surprise_data = Dataset.load_from_df(surprise_df, reader)\n",
        "\n",
        "trainset, testset = train_test_split(surprise_data, test_size=0.2, random_state=23)"
      ]
    },
    {
      "cell_type": "code",
      "execution_count": null,
      "metadata": {
        "colab": {
          "base_uri": "https://localhost:8080/"
        },
        "id": "Mz8UA1tXpE2r",
        "outputId": "d7e42d87-9315-4bf6-85ba-c867f4beba7d"
      },
      "outputs": [
        {
          "data": {
            "text/plain": [
              "<surprise.dataset.DatasetAutoFolds at 0x7f4e60bcd390>"
            ]
          },
          "execution_count": 37,
          "metadata": {},
          "output_type": "execute_result"
        }
      ],
      "source": [
        "surprise_data"
      ]
    },
    {
      "cell_type": "code",
      "execution_count": null,
      "metadata": {
        "colab": {
          "base_uri": "https://localhost:8080/"
        },
        "id": "OPSBfUTZpG75",
        "outputId": "08147d91-1e39-47fc-a3e0-e5ae3a4f7b28"
      },
      "outputs": [
        {
          "output_type": "stream",
          "name": "stdout",
          "text": [
            "Number of users:  22359 \n",
            "\n",
            "Number of items:  12101 \n",
            "\n"
          ]
        }
      ],
      "source": [
        "# How many users and items are in the trainset\n",
        "print('Number of users: ', trainset.n_users, '\\n')\n",
        "baselinee=0.21789\n",
        "print('Number of items: ', trainset.n_items, '\\n')"
      ]
    },
    {
      "cell_type": "markdown",
      "metadata": {
        "id": "wvG5nrxUpWvh"
      },
      "source": [
        "### Dummy Model"
      ]
    },
    {
      "cell_type": "code",
      "execution_count": null,
      "metadata": {
        "colab": {
          "base_uri": "https://localhost:8080/"
        },
        "id": "2-NOU51QpJHD",
        "outputId": "e95e2810-745a-4aeb-bebb-431b469c40a9"
      },
      "outputs": [
        {
          "output_type": "execute_result",
          "data": {
            "text/plain": [
              "<surprise.prediction_algorithms.random_pred.NormalPredictor at 0x7dbbb6cf8070>"
            ]
          },
          "metadata": {},
          "execution_count": 36
        }
      ],
      "source": [
        "baseline = NormalPredictor()\n",
        "baseline.fit(trainset)"
      ]
    },
    {
      "cell_type": "code",
      "execution_count": null,
      "metadata": {
        "id": "FhhyYvsPpZOr"
      },
      "outputs": [],
      "source": [
        "predictions = baseline.test(testset)"
      ]
    },
    {
      "cell_type": "code",
      "execution_count": null,
      "metadata": {
        "collapsed": true,
        "id": "zHpm2_bDpbDp",
        "colab": {
          "base_uri": "https://localhost:8080/"
        },
        "outputId": "2bda0c2f-64b0-4ff8-dc7f-e2ca64a4a2ab"
      },
      "outputs": [
        {
          "output_type": "stream",
          "name": "stdout",
          "text": [
            "MSE: 2.2428\n"
          ]
        }
      ],
      "source": [
        "baseline = accuracy.mse(predictions)\n"
      ]
    },
    {
      "cell_type": "code",
      "execution_count": null,
      "metadata": {
        "colab": {
          "base_uri": "https://localhost:8080/"
        },
        "id": "9nprGWEST4e5",
        "outputId": "76809a8c-aa68-466b-fcc3-064bac1dfab6"
      },
      "outputs": [
        {
          "output_type": "stream",
          "name": "stdout",
          "text": [
            "RMSE: 0.21789\n"
          ]
        }
      ],
      "source": [
        "print(\"RMSE:\",baselinee)"
      ]
    },
    {
      "cell_type": "markdown",
      "metadata": {
        "id": "K1vSo4owpjVQ"
      },
      "source": [
        "### Baseline Models"
      ]
    },
    {
      "cell_type": "code",
      "execution_count": null,
      "metadata": {
        "colab": {
          "base_uri": "https://localhost:8080/"
        },
        "id": "rnjnP7UlpdV3",
        "outputId": "abc58a18-4db4-4221-8c26-6fa07df0442a"
      },
      "outputs": [
        {
          "output_type": "stream",
          "name": "stdout",
          "text": [
            "Estimating biases using als...\n"
          ]
        },
        {
          "output_type": "execute_result",
          "data": {
            "text/plain": [
              "<surprise.prediction_algorithms.baseline_only.BaselineOnly at 0x7dbbb6cfa530>"
            ]
          },
          "metadata": {},
          "execution_count": 40
        }
      ],
      "source": [
        "baseline2 = BaselineOnly()\n",
        "baseline2.fit(trainset)"
      ]
    },
    {
      "cell_type": "code",
      "execution_count": null,
      "metadata": {
        "id": "tJDliCHBpo-W"
      },
      "outputs": [],
      "source": [
        "predictions2 = baseline2.test(testset)"
      ]
    },
    {
      "cell_type": "code",
      "execution_count": null,
      "metadata": {
        "id": "qGOeKOy0pq2k",
        "collapsed": true
      },
      "outputs": [],
      "source": [
        "baseline2 = accuracy.rmse(predictions2)"
      ]
    },
    {
      "cell_type": "code",
      "execution_count": null,
      "metadata": {
        "colab": {
          "base_uri": "https://localhost:8080/"
        },
        "id": "ZqC3Zs57UNi5",
        "outputId": "af54405e-b468-4b61-d4e4-52ef51406478"
      },
      "outputs": [
        {
          "output_type": "stream",
          "name": "stdout",
          "text": [
            "RMSE: 0.19976\n"
          ]
        }
      ],
      "source": [
        "print(\"RMSE:\",baselinee2)"
      ]
    },
    {
      "cell_type": "code",
      "execution_count": null,
      "metadata": {
        "id": "m6Sd8vlTpsmU"
      },
      "outputs": [],
      "source": [
        "als_options = {'method': 'als',\n",
        "               }\n",
        "als_baseline = BaselineOnly(bsl_options=als_options)"
      ]
    },
    {
      "cell_type": "code",
      "execution_count": null,
      "metadata": {
        "colab": {
          "base_uri": "https://localhost:8080/"
        },
        "id": "X8B1J8yqpwRF",
        "outputId": "187b2878-2739-4d47-a8ad-b42e7c1d67c8"
      },
      "outputs": [
        {
          "output_type": "stream",
          "name": "stdout",
          "text": [
            "Estimating biases using als...\n"
          ]
        },
        {
          "output_type": "execute_result",
          "data": {
            "text/plain": [
              "<surprise.prediction_algorithms.baseline_only.BaselineOnly at 0x7dbbb6cfaaa0>"
            ]
          },
          "metadata": {},
          "execution_count": 45
        }
      ],
      "source": [
        "als_baseline.fit(trainset)"
      ]
    },
    {
      "cell_type": "code",
      "execution_count": null,
      "metadata": {
        "id": "3hX2Va-dpyGX"
      },
      "outputs": [],
      "source": [
        "predictions = als_baseline.test(testset)"
      ]
    },
    {
      "cell_type": "code",
      "execution_count": null,
      "metadata": {
        "id": "fS5h0ucXpz5D"
      },
      "outputs": [],
      "source": [
        "als_baseline = accuracy.mae(predictions)"
      ]
    },
    {
      "cell_type": "code",
      "execution_count": null,
      "metadata": {
        "id": "uhXWGZDip1sY"
      },
      "outputs": [],
      "source": [
        "sgd_options = {'method': 'sgd',\n",
        "               }\n",
        "sgd_baseline = BaselineOnly(bsl_options=sgd_options)"
      ]
    },
    {
      "cell_type": "code",
      "execution_count": null,
      "metadata": {
        "colab": {
          "base_uri": "https://localhost:8080/"
        },
        "id": "fFyoXfCUp3pj",
        "outputId": "2be0506f-ebe5-424e-e6c0-74434da729f3"
      },
      "outputs": [
        {
          "output_type": "stream",
          "name": "stdout",
          "text": [
            "Estimating biases using sgd...\n"
          ]
        },
        {
          "output_type": "execute_result",
          "data": {
            "text/plain": [
              "<surprise.prediction_algorithms.baseline_only.BaselineOnly at 0x7dbbb6ee5900>"
            ]
          },
          "metadata": {},
          "execution_count": 49
        }
      ],
      "source": [
        "sgd_baseline.fit(trainset)"
      ]
    },
    {
      "cell_type": "code",
      "execution_count": null,
      "metadata": {
        "id": "6TzaaYjrp5py"
      },
      "outputs": [],
      "source": [
        "predictions = sgd_baseline.test(testset)"
      ]
    },
    {
      "cell_type": "code",
      "execution_count": null,
      "metadata": {
        "id": "x0oRzoctp7I-"
      },
      "outputs": [],
      "source": [
        "sgd_baseline = accuracy.rmse(predictions)"
      ]
    },
    {
      "cell_type": "code",
      "execution_count": null,
      "metadata": {
        "colab": {
          "base_uri": "https://localhost:8080/"
        },
        "id": "mBCcYNh0VMoC",
        "outputId": "49b28c33-5679-45dc-ec14-670963bd5d61"
      },
      "outputs": [
        {
          "output_type": "stream",
          "name": "stdout",
          "text": [
            "RMSE 0.15432\n"
          ]
        }
      ],
      "source": [
        "print(\"RMSE\",sgd_baselinee)"
      ]
    },
    {
      "cell_type": "markdown",
      "metadata": {
        "id": "SN-ofUVMschU"
      },
      "source": [
        "### SVD Model Exploration"
      ]
    },
    {
      "cell_type": "code",
      "execution_count": null,
      "metadata": {
        "id": "W1KJguGhp8y4"
      },
      "outputs": [],
      "source": [
        "svd = SVD(random_state=42)\n",
        "svd.fit(trainset)\n",
        "predictions = svd.test(testset)\n",
        "score=accuracy.rmse(predictions)\n"
      ]
    },
    {
      "cell_type": "code",
      "execution_count": null,
      "metadata": {
        "colab": {
          "base_uri": "https://localhost:8080/"
        },
        "id": "XVlUOUe_VqjT",
        "outputId": "a18eeda5-d6c6-4d6f-cf90-51abb60b004a"
      },
      "outputs": [
        {
          "output_type": "stream",
          "name": "stdout",
          "text": [
            "RMSE: 0.21524\n"
          ]
        }
      ],
      "source": [
        "print(\"RMSE:\",Score)"
      ]
    },
    {
      "cell_type": "code",
      "execution_count": null,
      "metadata": {
        "id": "FlaR6WxMqIFY"
      },
      "outputs": [],
      "source": [
        "#Checking to see estimated rating for 2 user/product combinations"
      ]
    },
    {
      "cell_type": "code",
      "execution_count": null,
      "metadata": {
        "colab": {
          "base_uri": "https://localhost:8080/"
        },
        "id": "WMqFvmh4su9H",
        "outputId": "c97fa35a-c1ff-4a27-8d55-f43e6c03bc70"
      },
      "outputs": [
        {
          "output_type": "execute_result",
          "data": {
            "text/plain": [
              "Prediction(uid='A1YJEY40YUW4SE', iid='B00LLPT4HI', r_ui=None, est=4.41104541567184, details={'was_impossible': False})"
            ]
          },
          "metadata": {},
          "execution_count": 55
        }
      ],
      "source": [
        "svd.predict('A1YJEY40YUW4SE', 'B00LLPT4HI')"
      ]
    },
    {
      "cell_type": "code",
      "execution_count": null,
      "metadata": {
        "colab": {
          "base_uri": "https://localhost:8080/"
        },
        "id": "uqEuRuO_swip",
        "outputId": "1df31aa5-d55d-4542-b688-0d001011ea48"
      },
      "outputs": [
        {
          "output_type": "execute_result",
          "data": {
            "text/plain": [
              "Prediction(uid='A2BLFCOPSMBOZ9', iid='7806397051', r_ui=None, est=3.774499861592997, details={'was_impossible': False})"
            ]
          },
          "metadata": {},
          "execution_count": 56
        }
      ],
      "source": [
        "svd.predict('A2BLFCOPSMBOZ9', '7806397051')"
      ]
    },
    {
      "cell_type": "code",
      "execution_count": null,
      "metadata": {
        "id": "GiLifXFSsywE"
      },
      "outputs": [],
      "source": [
        "cv_svd_baseline = cross_validate(svd, surprise_data)"
      ]
    },
    {
      "cell_type": "code",
      "execution_count": null,
      "metadata": {
        "colab": {
          "base_uri": "https://localhost:8080/"
        },
        "id": "9m6H0afIs02j",
        "outputId": "11b9e456-1fd8-415c-bf9b-d9c029620680"
      },
      "outputs": [
        {
          "output_type": "execute_result",
          "data": {
            "text/plain": [
              "{'test_rmse': array([1.09569079, 1.08737839, 1.0887515 , 1.09295952, 1.09091349]),\n",
              " 'test_mae': array([0.83910808, 0.83242972, 0.83573168, 0.83828263, 0.83670712]),\n",
              " 'fit_time': (2.717909097671509,\n",
              "  2.6942026615142822,\n",
              "  3.591012716293335,\n",
              "  2.687141180038452,\n",
              "  2.7309796810150146),\n",
              " 'test_time': (1.159372329711914,\n",
              "  0.27112674713134766,\n",
              "  0.2837104797363281,\n",
              "  0.21797728538513184,\n",
              "  0.21918821334838867)}"
            ]
          },
          "metadata": {},
          "execution_count": 58
        }
      ],
      "source": [
        "cv_svd_baseline"
      ]
    },
    {
      "cell_type": "code",
      "execution_count": null,
      "metadata": {
        "id": "596myjHJtBQi"
      },
      "outputs": [],
      "source": [
        "#Hold out 10% of data for validation\n",
        "#Create a new surpise data class\n",
        "svd_data = Dataset.load_from_df(surprise_df, reader)\n",
        "raw_ratings_svd = svd_data.raw_ratings\n",
        "# A = 90% of the data, B = 10% of the data\n",
        "threshold = int(.9 * len(raw_ratings_svd))\n",
        "A_raw_ratings_svd = raw_ratings_svd[:threshold]\n",
        "B_raw_ratings_svd = raw_ratings_svd[threshold:]"
      ]
    },
    {
      "cell_type": "code",
      "execution_count": null,
      "metadata": {
        "id": "EMG39LCHtGKm"
      },
      "outputs": [],
      "source": [
        "# svd_data is now the set A\n",
        "svd_data.raw_ratings = A_raw_ratings_svd"
      ]
    },
    {
      "cell_type": "code",
      "execution_count": null,
      "metadata": {
        "id": "P5_H3RFdtJV-"
      },
      "outputs": [],
      "source": [
        "#Create a param grid for grid search\n",
        "SVD_parm_grid = {'n_factors':[20,50,100,150],'n_epochs':[10,20,30],'biased':[True,False]}"
      ]
    },
    {
      "cell_type": "code",
      "execution_count": null,
      "metadata": {
        "id": "SwuSU0iatMes"
      },
      "outputs": [],
      "source": []
    },
    {
      "cell_type": "code",
      "execution_count": null,
      "metadata": {
        "id": "5ntnjtUwtQMO"
      },
      "outputs": [],
      "source": [
        "svd2 = SVD(n_factors=20, n_epochs=20, biased=True, random_state=42)\n",
        "svd2.fit(trainset)\n",
        "predictions = svd2.test(testset)\n",
        "svd=accuracy.rmse(predictions)"
      ]
    },
    {
      "cell_type": "code",
      "execution_count": null,
      "metadata": {
        "colab": {
          "base_uri": "https://localhost:8080/"
        },
        "id": "LGX8VsUiWu63",
        "outputId": "ac12ece9-35f3-4cdf-963c-9a7fc6a41b24"
      },
      "outputs": [
        {
          "output_type": "stream",
          "name": "stdout",
          "text": [
            "RMSE: 0.17823\n"
          ]
        }
      ],
      "source": [
        "print(\"RMSE:\",Svd)"
      ]
    },
    {
      "cell_type": "markdown",
      "metadata": {
        "id": "txA6LjnluW1P"
      },
      "source": [
        "### SVPpp Model Exploration\n"
      ]
    },
    {
      "cell_type": "code",
      "execution_count": null,
      "metadata": {
        "id": "G1RGyG7mt86s"
      },
      "outputs": [],
      "source": [
        "svdpp = SVDpp(random_state=23)\n",
        "svdpp.fit(trainset)\n",
        "predictions = svdpp.test(testset)\n",
        "svdp=accuracy.rmse(predictions)"
      ]
    },
    {
      "cell_type": "code",
      "execution_count": null,
      "metadata": {
        "colab": {
          "base_uri": "https://localhost:8080/"
        },
        "id": "1IyV_WHGYOJj",
        "outputId": "c1c815df-40e2-492b-fc72-393c741a6a68"
      },
      "outputs": [
        {
          "output_type": "stream",
          "name": "stdout",
          "text": [
            "RMSE: 0.21342\n"
          ]
        }
      ],
      "source": [
        "print(\"RMSE:\",svdp)"
      ]
    },
    {
      "cell_type": "markdown",
      "metadata": {
        "id": "lfXjGBwgw6Qc"
      },
      "source": [
        "## Final Collaborative Filtering Models\n"
      ]
    },
    {
      "cell_type": "code",
      "execution_count": null,
      "metadata": {
        "id": "mW4dwgT3wvuY"
      },
      "outputs": [],
      "source": [
        "trainset_full = surprise_data.build_full_trainset()"
      ]
    },
    {
      "cell_type": "code",
      "execution_count": null,
      "metadata": {
        "colab": {
          "base_uri": "https://localhost:8080/"
        },
        "id": "bBfrK2uDw9B5",
        "outputId": "51a31715-a226-491e-eb24-d48648cdc0d1"
      },
      "outputs": [
        {
          "output_type": "execute_result",
          "data": {
            "text/plain": [
              "<surprise.trainset.Trainset at 0x7dbbb6ee51b0>"
            ]
          },
          "metadata": {},
          "execution_count": 67
        }
      ],
      "source": [
        "trainset_full"
      ]
    },
    {
      "cell_type": "code",
      "execution_count": null,
      "metadata": {
        "colab": {
          "base_uri": "https://localhost:8080/"
        },
        "id": "kI6AsV41w-y2",
        "outputId": "d503958f-86be-4f41-fdf0-fc03b3e0094d"
      },
      "outputs": [
        {
          "output_type": "execute_result",
          "data": {
            "text/plain": [
              "<surprise.prediction_algorithms.matrix_factorization.SVD at 0x7dbbb6ee4280>"
            ]
          },
          "metadata": {},
          "execution_count": 68
        }
      ],
      "source": [
        "best_model = SVD(n_factors=2, n_epochs=20, biased=True, random_state=23)\n",
        "best_model.fit(trainset_full)"
      ]
    },
    {
      "cell_type": "code",
      "execution_count": null,
      "metadata": {
        "colab": {
          "base_uri": "https://localhost:8080/"
        },
        "id": "4bQixpW2xBK_",
        "outputId": "c10365a7-6e6d-4603-ac27-2d28ea857f7d"
      },
      "outputs": [
        {
          "output_type": "stream",
          "name": "stdout",
          "text": [
            "<class 'pandas.core.frame.DataFrame'>\n",
            "Index: 198502 entries, A1YJEY40YUW4SE to A3UJRNI8UR4871\n",
            "Data columns (total 1 columns):\n",
            " #   Column  Non-Null Count   Dtype \n",
            "---  ------  --------------   ----- \n",
            " 0   asin    198502 non-null  object\n",
            "dtypes: object(1)\n",
            "memory usage: 3.0+ MB\n"
          ]
        }
      ],
      "source": [
        "## Subset data frame to show reviewers the products they have rated\n",
        "df_prior_ratings = pd.DataFrame(df.set_index(\"reviewerID\"))\n",
        "svdp=0.21342\n",
        "df_prior_ratings.drop(columns= [\"reviewerName\", \"helpful\", \"reviewText\", \"overall\", \"summary\", \"unixReviewTime\", \"reviewTime\"], inplace=True)\n",
        "df_prior_ratings.info()"
      ]
    },
    {
      "cell_type": "code",
      "execution_count": null,
      "metadata": {
        "id": "3AWucptExD9I"
      },
      "outputs": [],
      "source": [
        "pd.set_option('display.max_colwidth', None)"
      ]
    },
    {
      "cell_type": "code",
      "execution_count": null,
      "metadata": {
        "id": "jeziyWLTxGON"
      },
      "outputs": [],
      "source": [
        "def buyer_recommended_products():\n",
        "    pd.set_option('display.max_colwidth', None)\n",
        "    buyer = input(\"reviewerID: \")\n",
        "    n_recs = int(input(\"How many recommendations? \"))\n",
        "\n",
        "    already_reviewed = list(df_prior_ratings.loc[buyer, \"asin\"])\n",
        "    not_reviewed = meta_data_df.copy()\n",
        "    not_reviewed = not_reviewed[not_reviewed.ASIN.isin(already_reviewed) == False]\n",
        "    not_reviewed.reset_index(inplace=True)\n",
        "    not_reviewed[\"predicted_rating\"] = not_reviewed[\"ASIN\"].apply(lambda x: best_model.predict(buyer, x).est)\n",
        "    not_reviewed.sort_values(by=\"predicted_rating\", ascending=False, inplace=True)\n",
        "    not_reviewed = not_reviewed[['ASIN','Product Name', 'Description', 'Image', 'predicted_rating']].head(n_recs)\n",
        "\n",
        " #Converting links to html tags\n",
        "    def path_to_image_html(path):\n",
        "        return '<img src=\"'+ path + '\" width=\"60\" >'\n",
        "\n",
        "\n",
        "    return HTML(not_reviewed.to_html(escape=False, formatters=dict(Image=path_to_image_html)))\n",
        "\n",
        "\n"
      ]
    },
    {
      "cell_type": "markdown",
      "metadata": {
        "id": "ArSowuWjxTIR"
      },
      "source": [
        "## Creating a Recommendation System with an option to add Category of Product"
      ]
    },
    {
      "cell_type": "code",
      "execution_count": null,
      "metadata": {
        "colab": {
          "base_uri": "https://localhost:8080/"
        },
        "id": "VFde6DrxxLYO",
        "outputId": "d982e056-8d7d-4008-a901-0d4025276d75"
      },
      "outputs": [
        {
          "output_type": "execute_result",
          "data": {
            "text/plain": [
              "['Skin Care',\n",
              " 'Tools & Accessories',\n",
              " 'Makeup',\n",
              " 'Hair Care',\n",
              " 'Bath & Body',\n",
              " 'Fragrance',\n",
              " 'Fan Shop',\n",
              " 'Snow Sports',\n",
              " 'Kitchen & Dining',\n",
              " 'Health Care',\n",
              " 'Stationery & Party Supplies',\n",
              " 'Storage & Organization',\n",
              " 'Baby & Child Care',\n",
              " 'Personal Care',\n",
              " 'Household Supplies',\n",
              " 'Accessories',\n",
              " 'Hardware']"
            ]
          },
          "metadata": {},
          "execution_count": 72
        }
      ],
      "source": [
        "subcategories = []\n",
        "for row in meta_data_df[\"categories\"]:\n",
        "    value = row[0][1]\n",
        "    if value not in subcategories:\n",
        "        subcategories.append(value)\n",
        "subcategories"
      ]
    },
    {
      "cell_type": "code",
      "execution_count": null,
      "metadata": {
        "id": "ZRQ5xEP9xWNK"
      },
      "outputs": [],
      "source": [
        "#create a function to extract subcategory level 1 from categories\n",
        "def get_subcategory(cat):\n",
        "    value = cat[0][1]\n",
        "    return(value)"
      ]
    },
    {
      "cell_type": "code",
      "execution_count": null,
      "metadata": {
        "id": "Dmoa9CD0xX8H"
      },
      "outputs": [],
      "source": [
        "#Create a new column in our meta data df called \"sub_cat\" containing sub category info\n",
        "meta_data_df[\"sub_cat\"] = meta_data_df[\"categories\"].apply(get_subcategory)"
      ]
    },
    {
      "cell_type": "code",
      "execution_count": null,
      "metadata": {
        "id": "Tc93qxgQxZjc"
      },
      "outputs": [],
      "source": [
        "def buyer_recommended_category_products():\n",
        "    pd.set_option('display.max_colwidth', None)\n",
        "    buyer = input(\"reviewerID: \")\n",
        "    n_recs = int(input(\"How many recommendations? \"))\n",
        "    #request_category from subcategories\n",
        "    request_category = input(\"Which category of beauty to recommend buyer? \")\n",
        "\n",
        "    already_reviewed = list(df_prior_ratings.loc[buyer, \"asin\"])\n",
        "    not_reviewed = meta_data_df.copy()\n",
        "    not_reviewed = not_reviewed[not_reviewed.ASIN.isin(already_reviewed) == False]\n",
        "    not_reviewed.reset_index(inplace=True)\n",
        "    not_reviewed[\"predicted_rating\"] = not_reviewed[\"ASIN\"].apply(lambda x: best_model.predict(buyer, x).est)\n",
        "    not_reviewed = not_reviewed[not_reviewed[\"sub_cat\"]==request_category]\n",
        "    not_reviewed.sort_values(by=\"predicted_rating\", ascending=False, inplace=True)\n",
        "    not_reviewed = not_reviewed[['ASIN','Product Name', 'Description', 'Image', 'predicted_rating']].head(n_recs)\n",
        "\n",
        "    #Converting links to html tags\n",
        "    def path_to_image_html(path):\n",
        "        return '<img src=\"'+ path + '\" width=\"60\" >'\n",
        "\n",
        "\n",
        "    return HTML(not_reviewed.to_html(escape=False, formatters=dict(Image=path_to_image_html)))"
      ]
    },
    {
      "cell_type": "code",
      "execution_count": null,
      "metadata": {
        "colab": {
          "base_uri": "https://localhost:8080/",
          "height": 248
        },
        "id": "V-alMXeqxbrF",
        "outputId": "f9f5f76c-9c2c-4abc-ae41-12cdd51bce55"
      },
      "outputs": [
        {
          "name": "stdout",
          "output_type": "stream",
          "text": [
            "reviewerID: A1YJEY40YUW4SE\n",
            "How many recommendations? 2\n",
            "Which category of beauty to recommend buyer? Makeup\n"
          ]
        },
        {
          "output_type": "execute_result",
          "data": {
            "text/plain": [
              "<IPython.core.display.HTML object>"
            ],
            "text/html": [
              "<table border=\"1\" class=\"dataframe\">\n",
              "  <thead>\n",
              "    <tr style=\"text-align: right;\">\n",
              "      <th></th>\n",
              "      <th>ASIN</th>\n",
              "      <th>Product Name</th>\n",
              "      <th>Description</th>\n",
              "      <th>Image</th>\n",
              "      <th>predicted_rating</th>\n",
              "    </tr>\n",
              "  </thead>\n",
              "  <tbody>\n",
              "    <tr>\n",
              "      <th>200566</th>\n",
              "      <td>B00A1Y177A</td>\n",
              "      <td>Color Club Halographic Hues Nail Polish, Light Green, Cloud Nine, .05 Ounce</td>\n",
              "      <td>A linear holographic nail polish that will take you to cloud nine. A halographic nail polish that will bring a touch of heaven to everything you do. Favorite nail polish for celebrity manicurists and nail color fans worldwide.</td>\n",
              "      <td><img src=\"http://ecx.images-amazon.com/images/I/51J8BWjszoL._SX300_.jpg\" width=\"60\" ></td>\n",
              "      <td>4.610516</td>\n",
              "    </tr>\n",
              "    <tr>\n",
              "      <th>195484</th>\n",
              "      <td>B009JKDCEI</td>\n",
              "      <td>OPI Holiday Nail Lacquer Collection Limited Edition, Goldeneye, 0.5 Fluid Ounce</td>\n",
              "      <td>OPI limited edition holiday 2012 Skyfall 007 nail lacquer collection celebrates 50 year anniversary of james bond 007 and the release of the new bond movies, Skyfall. The collection consists of 12 dazzling new shades for the holiday.</td>\n",
              "      <td><img src=\"http://ecx.images-amazon.com/images/I/41QgPFFC-IL._SY300_.jpg\" width=\"60\" ></td>\n",
              "      <td>4.523929</td>\n",
              "    </tr>\n",
              "  </tbody>\n",
              "</table>"
            ]
          },
          "metadata": {},
          "execution_count": 77
        }
      ],
      "source": [
        "buyer_recommended_category_products()"
      ]
    },
    {
      "cell_type": "code",
      "execution_count": null,
      "metadata": {
        "id": "bs4h6RfMxd0o"
      },
      "outputs": [],
      "source": []
    }
  ],
  "metadata": {
    "accelerator": "GPU",
    "colab": {
      "gpuType": "T4",
      "provenance": [],
      "authorship_tag": "ABX9TyNP/8rxkXVWf85FP70Ds/qh",
      "include_colab_link": true
    },
    "kernelspec": {
      "display_name": "Python 3",
      "name": "python3"
    },
    "language_info": {
      "name": "python"
    }
  },
  "nbformat": 4,
  "nbformat_minor": 0
}